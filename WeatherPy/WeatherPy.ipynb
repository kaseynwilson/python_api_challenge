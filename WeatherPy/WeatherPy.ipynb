{
 "cells": [
  {
   "cell_type": "markdown",
   "metadata": {},
   "source": [
    "# WeatherPy\n",
    "----\n",
    "\n",
    "#### Note\n",
    "* Instructions have been included for each segment. You do not have to follow them exactly, but they are included to help you think through the steps."
   ]
  },
  {
   "cell_type": "code",
   "execution_count": 73,
   "metadata": {
    "scrolled": true
   },
   "outputs": [],
   "source": [
    "# Dependencies and Setup\n",
    "import matplotlib.pyplot as plt\n",
    "import pandas as pd\n",
    "import numpy as np\n",
    "import requests\n",
    "import time\n",
    "from scipy.stats import linregress\n",
    "import csv\n",
    "import json\n",
    "import pytemperature\n",
    "\n",
    "# Import API key\n",
    "from api_keys import api_key\n",
    "\n",
    "# Incorporated citipy to determine city based on latitude and longitude\n",
    "from citipy import citipy\n",
    "\n",
    "# Output File (CSV)\n",
    "output_data_file = \"output_data/cities.csv\"\n",
    "\n",
    "# Range of latitudes and longitudes\n",
    "lat_range = (-90, 90)\n",
    "lng_range = (-180, 180)"
   ]
  },
  {
   "cell_type": "markdown",
   "metadata": {},
   "source": [
    "## Generate Cities List"
   ]
  },
  {
   "cell_type": "code",
   "execution_count": 19,
   "metadata": {},
   "outputs": [
    {
     "data": {
      "text/plain": [
       "596"
      ]
     },
     "execution_count": 19,
     "metadata": {},
     "output_type": "execute_result"
    }
   ],
   "source": [
    "# List for holding lat_lngs and cities\n",
    "lat_lngs = []\n",
    "cities = []\n",
    "\n",
    "# Create a set of random lat and lng combinations\n",
    "lats = np.random.uniform(lat_range[0], lat_range[1], size=1500)\n",
    "lngs = np.random.uniform(lng_range[0], lng_range[1], size=1500)\n",
    "lat_lngs = zip(lats, lngs)\n",
    "\n",
    "# Identify nearest city for each lat, lng combination\n",
    "for lat_lng in lat_lngs:\n",
    "    city = citipy.nearest_city(lat_lng[0], lat_lng[1]).city_name\n",
    "    \n",
    "    # If the city is unique, then add it to a our cities list\n",
    "    if city not in cities:\n",
    "        cities.append(city)\n",
    "\n",
    "# Print the city count to confirm sufficient count\n",
    "len(cities)"
   ]
  },
  {
   "cell_type": "markdown",
   "metadata": {},
   "source": [
    "### Perform API Calls\n",
    "* Perform a weather check on each city using a series of successive API calls.\n",
    "* Include a print log of each city as it'sbeing processed (with the city number and city name).\n"
   ]
  },
  {
   "cell_type": "code",
   "execution_count": 74,
   "metadata": {},
   "outputs": [
    {
     "name": "stdout",
     "output_type": "stream",
     "text": [
      "Processing Record 0 of Set 1 | hermanus.\n",
      "Processing Record 1 of Set 1 | ponta do sol.\n",
      "Processing Record 2 of Set 1 | flinders.\n",
      "Processing Record 3 of Set 1 | asau.\n",
      "Processing Record 4 of Set 1 | huanren.\n",
      "Processing Record 5 of Set 1 | busselton.\n",
      "Processing Record 6 of Set 1 | yellowknife.\n",
      "Processing Record 7 of Set 1 | tuatapere.\n",
      "Processing Record 8 of Set 1 | hambantota.\n",
      "Processing Record 9 of Set 1 | fare.\n",
      "Processing Record 10 of Set 1 | mahebourg.\n",
      "Processing Record 11 of Set 1 | klaksvik.\n",
      "Processing Record 12 of Set 1 | matara.\n",
      "Processing Record 13 of Set 1 | kitimat.\n",
      "Processing Record 14 of Set 1 | punta arenas.\n",
      "Processing Record 15 of Set 1 | tilichiki.\n",
      "Processing Record 16 of Set 1 | castro.\n",
      "Processing Record 17 of Set 1 | cidreira.\n",
      "Processing Record 18 of Set 1 | kodiak.\n",
      "Processing Record 19 of Set 1 | griffith.\n",
      "Processing Record 20 of Set 1 | butaritari.\n",
      "City not found. Skipping...\n",
      "Processing Record 22 of Set 1 | tobermory.\n",
      "Processing Record 23 of Set 1 | chokurdakh.\n",
      "Processing Record 24 of Set 1 | albany.\n",
      "Processing Record 25 of Set 1 | san patricio.\n",
      "Processing Record 26 of Set 1 | puerto narino.\n",
      "Processing Record 27 of Set 1 | rikitea.\n",
      "Processing Record 28 of Set 1 | minna.\n",
      "Processing Record 29 of Set 1 | port alfred.\n",
      "City not found. Skipping...\n",
      "Processing Record 31 of Set 1 | kapaa.\n",
      "Processing Record 32 of Set 1 | bluff.\n",
      "Processing Record 33 of Set 1 | longview.\n",
      "City not found. Skipping...\n",
      "Processing Record 35 of Set 1 | jamestown.\n",
      "Processing Record 36 of Set 1 | east london.\n",
      "Processing Record 37 of Set 1 | saint-georges.\n",
      "Processing Record 38 of Set 1 | port elizabeth.\n",
      "Processing Record 39 of Set 1 | ushuaia.\n",
      "Processing Record 40 of Set 1 | puerto ayora.\n",
      "Processing Record 41 of Set 1 | dikson.\n",
      "Processing Record 42 of Set 1 | vwawa.\n",
      "Processing Record 43 of Set 1 | sao joao da barra.\n",
      "City not found. Skipping...\n",
      "Processing Record 45 of Set 1 | hilo.\n",
      "Processing Record 46 of Set 1 | mataura.\n",
      "Processing Record 47 of Set 1 | san cristobal.\n",
      "Processing Record 48 of Set 1 | bredasdorp.\n",
      "Processing Record 49 of Set 1 | bagan.\n",
      "Processing Record 0 of Set 2 | pevek.\n",
      "Processing Record 1 of Set 2 | la asuncion.\n",
      "Processing Record 2 of Set 2 | touros.\n",
      "Processing Record 3 of Set 2 | te anau.\n",
      "Processing Record 4 of Set 2 | itarema.\n",
      "Processing Record 5 of Set 2 | arlit.\n",
      "Processing Record 6 of Set 2 | luganville.\n",
      "Processing Record 7 of Set 2 | chapais.\n",
      "Processing Record 8 of Set 2 | pyay.\n",
      "Processing Record 9 of Set 2 | bambous virieux.\n",
      "Processing Record 10 of Set 2 | new norfolk.\n",
      "Processing Record 11 of Set 2 | vardo.\n",
      "Processing Record 12 of Set 2 | aginskoye.\n",
      "Processing Record 13 of Set 2 | saldanha.\n",
      "Processing Record 14 of Set 2 | eyrarbakki.\n",
      "Processing Record 15 of Set 2 | avarua.\n",
      "Processing Record 16 of Set 2 | lebu.\n",
      "Processing Record 17 of Set 2 | campoverde.\n",
      "Processing Record 18 of Set 2 | kununurra.\n",
      "Processing Record 19 of Set 2 | beringovskiy.\n",
      "Processing Record 20 of Set 2 | iqaluit.\n",
      "Processing Record 21 of Set 2 | airai.\n",
      "Processing Record 22 of Set 2 | beni.\n",
      "Processing Record 23 of Set 2 | cabo san lucas.\n",
      "Processing Record 24 of Set 2 | lompoc.\n",
      "Processing Record 25 of Set 2 | yibin.\n",
      "Processing Record 26 of Set 2 | arraial do cabo.\n",
      "Processing Record 27 of Set 2 | veseloyarsk.\n",
      "Processing Record 28 of Set 2 | anadyr.\n",
      "Processing Record 29 of Set 2 | yaan.\n",
      "Processing Record 30 of Set 2 | atuona.\n",
      "City not found. Skipping...\n",
      "Processing Record 32 of Set 2 | manta.\n",
      "Processing Record 33 of Set 2 | lanxi.\n",
      "Processing Record 34 of Set 2 | manggar.\n",
      "Processing Record 35 of Set 2 | kaputa.\n",
      "Processing Record 36 of Set 2 | hobart.\n",
      "Processing Record 37 of Set 2 | ambulu.\n",
      "Processing Record 38 of Set 2 | bukama.\n",
      "Processing Record 39 of Set 2 | ukiah.\n",
      "Processing Record 40 of Set 2 | matelandia.\n",
      "Processing Record 41 of Set 2 | middletown.\n",
      "Processing Record 42 of Set 2 | labrea.\n",
      "Processing Record 43 of Set 2 | tuktoyaktuk.\n",
      "Processing Record 44 of Set 2 | georgetown.\n",
      "Processing Record 45 of Set 2 | natal.\n",
      "Processing Record 46 of Set 2 | cape town.\n",
      "Processing Record 47 of Set 2 | luderitz.\n",
      "Processing Record 48 of Set 2 | karagaylinskiy.\n",
      "Processing Record 49 of Set 2 | luwuk.\n",
      "Processing Record 0 of Set 3 | upernavik.\n",
      "Processing Record 1 of Set 3 | laguna.\n",
      "Processing Record 2 of Set 3 | chekhov.\n",
      "Processing Record 3 of Set 3 | palana.\n",
      "City not found. Skipping...\n",
      "Processing Record 5 of Set 3 | clyde river.\n",
      "Processing Record 6 of Set 3 | lagoa.\n",
      "Processing Record 7 of Set 3 | palmer.\n",
      "Processing Record 8 of Set 3 | kindu.\n",
      "Processing Record 9 of Set 3 | ribeira grande.\n",
      "Processing Record 10 of Set 3 | thompson.\n",
      "Processing Record 11 of Set 3 | narsaq.\n",
      "Processing Record 12 of Set 3 | rapid valley.\n",
      "Processing Record 13 of Set 3 | faya.\n",
      "Processing Record 14 of Set 3 | fairbanks.\n",
      "Processing Record 15 of Set 3 | diu.\n",
      "Processing Record 16 of Set 3 | hun.\n",
      "Processing Record 17 of Set 3 | contamana.\n",
      "Processing Record 18 of Set 3 | mar del plata.\n",
      "Processing Record 19 of Set 3 | nikolskoye.\n",
      "Processing Record 20 of Set 3 | marawi.\n",
      "Processing Record 21 of Set 3 | tasiilaq.\n",
      "Processing Record 22 of Set 3 | oranjemund.\n",
      "Processing Record 23 of Set 3 | krupina.\n",
      "Processing Record 24 of Set 3 | salta.\n",
      "Processing Record 25 of Set 3 | vaasa.\n",
      "Processing Record 26 of Set 3 | kruisfontein.\n",
      "Processing Record 27 of Set 3 | dongsheng.\n",
      "Processing Record 28 of Set 3 | naze.\n",
      "Processing Record 29 of Set 3 | yar-sale.\n",
      "Processing Record 30 of Set 3 | khatanga.\n",
      "Processing Record 31 of Set 3 | sursk.\n",
      "Processing Record 32 of Set 3 | champerico.\n",
      "Processing Record 33 of Set 3 | amantea.\n",
      "Processing Record 34 of Set 3 | monchegorsk.\n",
      "Processing Record 35 of Set 3 | daru.\n",
      "Processing Record 36 of Set 3 | mananara.\n",
      "Processing Record 37 of Set 3 | kaitangata.\n",
      "Processing Record 38 of Set 3 | norman wells.\n",
      "Processing Record 39 of Set 3 | port lincoln.\n",
      "Processing Record 40 of Set 3 | carnarvon.\n",
      "Processing Record 41 of Set 3 | provideniya.\n",
      "Processing Record 42 of Set 3 | kainantu.\n",
      "Processing Record 43 of Set 3 | rio grande.\n",
      "Processing Record 44 of Set 3 | lasa.\n",
      "Processing Record 45 of Set 3 | obo.\n",
      "Processing Record 46 of Set 3 | vaini.\n",
      "Processing Record 47 of Set 3 | ypsonas.\n",
      "Processing Record 48 of Set 3 | hithadhoo.\n",
      "City not found. Skipping...\n",
      "Processing Record 0 of Set 4 | sitka.\n",
      "Processing Record 1 of Set 4 | terrace.\n",
      "Processing Record 2 of Set 4 | codrington.\n",
      "Processing Record 3 of Set 4 | baruun-urt.\n",
      "Processing Record 4 of Set 4 | pampa.\n",
      "Processing Record 5 of Set 4 | zhigansk.\n",
      "Processing Record 6 of Set 4 | inhambane.\n",
      "Processing Record 7 of Set 4 | half moon bay.\n",
      "Processing Record 8 of Set 4 | vanimo.\n",
      "Processing Record 9 of Set 4 | tevaitoa.\n",
      "Processing Record 10 of Set 4 | wanxian.\n",
      "City not found. Skipping...\n",
      "Processing Record 12 of Set 4 | bathsheba.\n",
      "Processing Record 13 of Set 4 | antofagasta.\n",
      "Processing Record 14 of Set 4 | ussel.\n",
      "Processing Record 15 of Set 4 | goderich.\n",
      "Processing Record 16 of Set 4 | alofi.\n",
      "Processing Record 17 of Set 4 | martapura.\n",
      "Processing Record 18 of Set 4 | petropavlovsk-kamchatskiy.\n",
      "Processing Record 19 of Set 4 | doctor arroyo.\n",
      "Processing Record 20 of Set 4 | ruidoso.\n",
      "City not found. Skipping...\n",
      "Processing Record 22 of Set 4 | bethel.\n",
      "Processing Record 23 of Set 4 | yanam.\n",
      "Processing Record 24 of Set 4 | leh.\n",
      "Processing Record 25 of Set 4 | barrow.\n",
      "Processing Record 26 of Set 4 | tiksi.\n",
      "Processing Record 27 of Set 4 | tadine.\n",
      "Processing Record 28 of Set 4 | chernyshevskiy.\n",
      "Processing Record 29 of Set 4 | hami.\n",
      "Processing Record 30 of Set 4 | waupun.\n",
      "Processing Record 31 of Set 4 | birnin kebbi.\n",
      "Processing Record 32 of Set 4 | biak.\n",
      "Processing Record 33 of Set 4 | port hardy.\n",
      "Processing Record 34 of Set 4 | bengkulu.\n",
      "Processing Record 35 of Set 4 | waipawa.\n",
      "Processing Record 36 of Set 4 | aanekoski.\n",
      "Processing Record 37 of Set 4 | saskylakh.\n",
      "Processing Record 38 of Set 4 | ayotzintepec.\n",
      "Processing Record 39 of Set 4 | burkburnett.\n",
      "Processing Record 40 of Set 4 | seydisehir.\n",
      "Processing Record 41 of Set 4 | ambon.\n",
      "Processing Record 42 of Set 4 | gat.\n",
      "Processing Record 43 of Set 4 | nelson bay.\n",
      "Processing Record 44 of Set 4 | tigzirt.\n",
      "Processing Record 45 of Set 4 | stornoway.\n",
      "Processing Record 46 of Set 4 | laela.\n",
      "Processing Record 47 of Set 4 | hondo.\n",
      "Processing Record 48 of Set 4 | mount gambier.\n"
     ]
    },
    {
     "name": "stdout",
     "output_type": "stream",
     "text": [
      "Processing Record 49 of Set 4 | muros.\n",
      "Processing Record 0 of Set 5 | atikokan.\n",
      "Processing Record 1 of Set 5 | vaitape.\n",
      "Processing Record 2 of Set 5 | puerto guzman.\n",
      "Processing Record 3 of Set 5 | qianguo.\n",
      "Processing Record 4 of Set 5 | tshane.\n",
      "Processing Record 5 of Set 5 | ust-nera.\n",
      "City not found. Skipping...\n",
      "Processing Record 7 of Set 5 | singaparna.\n",
      "Processing Record 8 of Set 5 | puerto madryn.\n",
      "Processing Record 9 of Set 5 | megion.\n",
      "Processing Record 10 of Set 5 | zhaotong.\n",
      "Processing Record 11 of Set 5 | salalah.\n",
      "City not found. Skipping...\n",
      "Processing Record 13 of Set 5 | sao filipe.\n",
      "Processing Record 14 of Set 5 | kavieng.\n",
      "Processing Record 15 of Set 5 | atar.\n",
      "Processing Record 16 of Set 5 | praia da vitoria.\n",
      "Processing Record 17 of Set 5 | dolores.\n",
      "Processing Record 18 of Set 5 | salina.\n",
      "Processing Record 19 of Set 5 | ancud.\n",
      "Processing Record 20 of Set 5 | gornopravdinsk.\n",
      "Processing Record 21 of Set 5 | javanrud.\n",
      "Processing Record 22 of Set 5 | labuhan.\n",
      "Processing Record 23 of Set 5 | korla.\n",
      "Processing Record 24 of Set 5 | pechora.\n",
      "Processing Record 25 of Set 5 | faanui.\n",
      "City not found. Skipping...\n",
      "Processing Record 27 of Set 5 | katsuura.\n",
      "Processing Record 28 of Set 5 | nampula.\n",
      "City not found. Skipping...\n",
      "Processing Record 30 of Set 5 | visby.\n",
      "Processing Record 31 of Set 5 | walvis bay.\n",
      "Processing Record 32 of Set 5 | ketovo.\n",
      "Processing Record 33 of Set 5 | cherskiy.\n",
      "Processing Record 34 of Set 5 | oskemen.\n",
      "Processing Record 35 of Set 5 | nouakchott.\n",
      "Processing Record 36 of Set 5 | port moresby.\n",
      "City not found. Skipping...\n",
      "Processing Record 38 of Set 5 | richards bay.\n",
      "Processing Record 39 of Set 5 | axim.\n",
      "Processing Record 40 of Set 5 | valleyview.\n",
      "City not found. Skipping...\n",
      "Processing Record 42 of Set 5 | yantzaza.\n",
      "Processing Record 43 of Set 5 | zhanakorgan.\n",
      "City not found. Skipping...\n",
      "Processing Record 45 of Set 5 | qaanaaq.\n",
      "Processing Record 46 of Set 5 | taltal.\n",
      "Processing Record 47 of Set 5 | tsaratanana.\n",
      "Processing Record 48 of Set 5 | yerofey pavlovich.\n",
      "City not found. Skipping...\n",
      "Processing Record 0 of Set 6 | manzhouli.\n",
      "Processing Record 1 of Set 6 | nouadhibou.\n",
      "Processing Record 2 of Set 6 | hanover.\n",
      "Processing Record 3 of Set 6 | beloha.\n",
      "Processing Record 4 of Set 6 | talnakh.\n",
      "Processing Record 5 of Set 6 | svetlaya.\n",
      "City not found. Skipping...\n",
      "City not found. Skipping...\n",
      "Processing Record 8 of Set 6 | sikasso.\n",
      "Processing Record 9 of Set 6 | werder.\n",
      "Processing Record 10 of Set 6 | umm lajj.\n",
      "Processing Record 11 of Set 6 | birao.\n",
      "Processing Record 12 of Set 6 | srednekolymsk.\n",
      "Processing Record 13 of Set 6 | owando.\n",
      "Processing Record 14 of Set 6 | cap malheureux.\n",
      "Processing Record 15 of Set 6 | erenhot.\n",
      "Processing Record 16 of Set 6 | morehead.\n",
      "Processing Record 17 of Set 6 | ugoofaaru.\n",
      "Processing Record 18 of Set 6 | bonavista.\n",
      "Processing Record 19 of Set 6 | khorramshahr.\n",
      "Processing Record 20 of Set 6 | davila.\n",
      "Processing Record 21 of Set 6 | kastrakion.\n",
      "Processing Record 22 of Set 6 | aksarka.\n",
      "Processing Record 23 of Set 6 | dumai.\n",
      "Processing Record 24 of Set 6 | mugla.\n",
      "Processing Record 25 of Set 6 | los llanos de aridane.\n",
      "City not found. Skipping...\n",
      "Processing Record 27 of Set 6 | biltine.\n",
      "Processing Record 28 of Set 6 | zigong.\n",
      "City not found. Skipping...\n",
      "Processing Record 30 of Set 6 | camacha.\n",
      "Processing Record 31 of Set 6 | troitskoye.\n",
      "Processing Record 32 of Set 6 | dingle.\n",
      "Processing Record 33 of Set 6 | orlik.\n",
      "Processing Record 34 of Set 6 | seidu.\n",
      "Processing Record 35 of Set 6 | nalut.\n",
      "Processing Record 36 of Set 6 | longyearbyen.\n",
      "Processing Record 37 of Set 6 | fortuna.\n",
      "City not found. Skipping...\n",
      "Processing Record 39 of Set 6 | gainesville.\n",
      "Processing Record 40 of Set 6 | tautira.\n",
      "Processing Record 41 of Set 6 | karnobat.\n",
      "City not found. Skipping...\n",
      "Processing Record 43 of Set 6 | asosa.\n",
      "Processing Record 44 of Set 6 | vestmannaeyjar.\n",
      "Processing Record 45 of Set 6 | guarapari.\n",
      "Processing Record 46 of Set 6 | pisco.\n",
      "Processing Record 47 of Set 6 | santa catarina de tepehuanes.\n",
      "Processing Record 48 of Set 6 | saint-philippe.\n",
      "Processing Record 49 of Set 6 | sorong.\n",
      "Processing Record 0 of Set 7 | kota belud.\n",
      "City not found. Skipping...\n",
      "Processing Record 2 of Set 7 | severo-kurilsk.\n",
      "Processing Record 3 of Set 7 | isangel.\n",
      "Processing Record 4 of Set 7 | ndele.\n",
      "Processing Record 5 of Set 7 | charters towers.\n",
      "Processing Record 6 of Set 7 | ust-kuyga.\n",
      "Processing Record 7 of Set 7 | lorengau.\n",
      "Processing Record 8 of Set 7 | kaka.\n",
      "Processing Record 9 of Set 7 | russell.\n",
      "Processing Record 10 of Set 7 | jonesboro.\n",
      "Processing Record 11 of Set 7 | northam.\n",
      "Processing Record 12 of Set 7 | henties bay.\n",
      "Processing Record 13 of Set 7 | sire.\n",
      "Processing Record 14 of Set 7 | san policarpo.\n",
      "Processing Record 15 of Set 7 | shenjiamen.\n",
      "Processing Record 16 of Set 7 | acapulco.\n",
      "Processing Record 17 of Set 7 | husavik.\n",
      "Processing Record 18 of Set 7 | kedrovyy.\n",
      "Processing Record 19 of Set 7 | comrie.\n",
      "Processing Record 20 of Set 7 | campo maior.\n",
      "Processing Record 21 of Set 7 | ormara.\n",
      "Processing Record 22 of Set 7 | taua.\n",
      "Processing Record 23 of Set 7 | kutum.\n",
      "Processing Record 24 of Set 7 | fort saint james.\n",
      "Processing Record 25 of Set 7 | bud.\n",
      "City not found. Skipping...\n",
      "Processing Record 27 of Set 7 | ilulissat.\n",
      "Processing Record 28 of Set 7 | bandarbeyla.\n",
      "Processing Record 29 of Set 7 | atambua.\n",
      "Processing Record 30 of Set 7 | umea.\n",
      "Processing Record 31 of Set 7 | tynda.\n",
      "Processing Record 32 of Set 7 | gamba.\n",
      "Processing Record 33 of Set 7 | rudsar.\n",
      "Processing Record 34 of Set 7 | mission.\n",
      "Processing Record 35 of Set 7 | kudahuvadhoo.\n",
      "Processing Record 36 of Set 7 | aromashevo.\n",
      "Processing Record 37 of Set 7 | ulladulla.\n",
      "City not found. Skipping...\n",
      "Processing Record 39 of Set 7 | torbay.\n",
      "City not found. Skipping...\n",
      "Processing Record 41 of Set 7 | vanderhoof.\n",
      "City not found. Skipping...\n",
      "Processing Record 43 of Set 7 | yerbogachen.\n",
      "Processing Record 44 of Set 7 | mount isa.\n",
      "Processing Record 45 of Set 7 | koksovyy.\n",
      "Processing Record 46 of Set 7 | constitucion.\n",
      "Processing Record 47 of Set 7 | mineiros.\n",
      "City not found. Skipping...\n",
      "Processing Record 49 of Set 7 | hasaki.\n",
      "Processing Record 0 of Set 8 | cotonou.\n",
      "Processing Record 1 of Set 8 | weligama.\n",
      "Processing Record 2 of Set 8 | ketchikan.\n",
      "Processing Record 3 of Set 8 | wawa.\n",
      "Processing Record 4 of Set 8 | dafeng.\n",
      "Processing Record 5 of Set 8 | port blair.\n",
      "Processing Record 6 of Set 8 | lavrentiya.\n",
      "Processing Record 7 of Set 8 | north port.\n",
      "Processing Record 8 of Set 8 | victoria.\n",
      "Processing Record 9 of Set 8 | rauma.\n",
      "Processing Record 10 of Set 8 | grand forks.\n",
      "Processing Record 11 of Set 8 | shubarkuduk.\n",
      "City not found. Skipping...\n",
      "Processing Record 13 of Set 8 | hobyo.\n",
      "Processing Record 14 of Set 8 | kirakira.\n",
      "Processing Record 15 of Set 8 | hokitika.\n",
      "Processing Record 16 of Set 8 | korisos.\n",
      "Processing Record 17 of Set 8 | qiryat shemona.\n",
      "Processing Record 18 of Set 8 | hudson bay.\n",
      "Processing Record 19 of Set 8 | huarmey.\n",
      "Processing Record 20 of Set 8 | dalvik.\n",
      "Processing Record 21 of Set 8 | dwarka.\n",
      "Processing Record 22 of Set 8 | avera.\n",
      "Processing Record 23 of Set 8 | hamilton.\n",
      "Processing Record 24 of Set 8 | kuvandyk.\n",
      "Processing Record 25 of Set 8 | eyl.\n",
      "Processing Record 26 of Set 8 | moose factory.\n",
      "Processing Record 27 of Set 8 | bahia honda.\n",
      "Processing Record 28 of Set 8 | kizilskoye.\n",
      "Processing Record 29 of Set 8 | jupiter.\n",
      "Processing Record 30 of Set 8 | enid.\n",
      "Processing Record 31 of Set 8 | jackson.\n",
      "City not found. Skipping...\n",
      "Processing Record 33 of Set 8 | okhtyrka.\n",
      "Processing Record 34 of Set 8 | kortkeros.\n",
      "Processing Record 35 of Set 8 | paamiut.\n",
      "Processing Record 36 of Set 8 | falam.\n",
      "Processing Record 37 of Set 8 | saint george.\n",
      "City not found. Skipping...\n",
      "Processing Record 39 of Set 8 | manokwari.\n",
      "Processing Record 40 of Set 8 | dunkwa.\n",
      "Processing Record 41 of Set 8 | terrell.\n",
      "Processing Record 42 of Set 8 | wewak.\n",
      "Processing Record 43 of Set 8 | muisne.\n",
      "Processing Record 44 of Set 8 | souillac.\n",
      "Processing Record 45 of Set 8 | saint-francois.\n",
      "Processing Record 46 of Set 8 | katherine.\n",
      "Processing Record 47 of Set 8 | san quintin.\n",
      "Processing Record 48 of Set 8 | kaoma.\n",
      "Processing Record 49 of Set 8 | buala.\n",
      "Processing Record 0 of Set 9 | the hammocks.\n",
      "Processing Record 1 of Set 9 | xinyu.\n"
     ]
    },
    {
     "name": "stdout",
     "output_type": "stream",
     "text": [
      "Processing Record 2 of Set 9 | coquimbo.\n",
      "City not found. Skipping...\n",
      "Processing Record 4 of Set 9 | pirae.\n",
      "Processing Record 5 of Set 9 | jinchang.\n",
      "Processing Record 6 of Set 9 | watsa.\n",
      "Processing Record 7 of Set 9 | aklavik.\n",
      "Processing Record 8 of Set 9 | port augusta.\n",
      "Processing Record 9 of Set 9 | carballo.\n",
      "Processing Record 10 of Set 9 | maragogi.\n",
      "Processing Record 11 of Set 9 | lynn haven.\n",
      "City not found. Skipping...\n",
      "Processing Record 13 of Set 9 | namibe.\n",
      "Processing Record 14 of Set 9 | vila franca do campo.\n",
      "City not found. Skipping...\n",
      "Processing Record 16 of Set 9 | genhe.\n",
      "Processing Record 17 of Set 9 | urengoy.\n",
      "Processing Record 18 of Set 9 | sabang.\n",
      "Processing Record 19 of Set 9 | hovd.\n",
      "City not found. Skipping...\n",
      "Processing Record 21 of Set 9 | mangrol.\n",
      "Processing Record 22 of Set 9 | luanda.\n",
      "Processing Record 23 of Set 9 | la rioja.\n",
      "Processing Record 24 of Set 9 | hirara.\n",
      "Processing Record 25 of Set 9 | ninh binh.\n",
      "Processing Record 26 of Set 9 | ahipara.\n",
      "Processing Record 27 of Set 9 | chuy.\n",
      "Processing Record 28 of Set 9 | khonsa.\n",
      "Processing Record 29 of Set 9 | vila velha.\n",
      "Processing Record 30 of Set 9 | mapastepec.\n",
      "Processing Record 31 of Set 9 | tessalit.\n",
      "Processing Record 32 of Set 9 | sarangani.\n",
      "Processing Record 33 of Set 9 | chalus.\n",
      "Processing Record 34 of Set 9 | leshukonskoye.\n",
      "Processing Record 35 of Set 9 | katangli.\n",
      "Processing Record 36 of Set 9 | bolu.\n",
      "City not found. Skipping...\n",
      "Processing Record 38 of Set 9 | nanortalik.\n",
      "City not found. Skipping...\n",
      "Processing Record 40 of Set 9 | beisfjord.\n",
      "Processing Record 41 of Set 9 | bonga.\n",
      "Processing Record 42 of Set 9 | kita.\n",
      "Processing Record 43 of Set 9 | emerald.\n",
      "Processing Record 44 of Set 9 | santa isabel do rio negro.\n",
      "Processing Record 45 of Set 9 | esperance.\n",
      "Processing Record 46 of Set 9 | mana.\n",
      "Processing Record 47 of Set 9 | ouadda.\n",
      "Processing Record 48 of Set 9 | evensk.\n",
      "Processing Record 49 of Set 9 | kamenka.\n",
      "Processing Record 0 of Set 10 | olafsvik.\n",
      "Processing Record 1 of Set 10 | laives.\n",
      "Processing Record 2 of Set 10 | cockburn town.\n",
      "Processing Record 3 of Set 10 | tucurui.\n",
      "Processing Record 4 of Set 10 | tazovskiy.\n",
      "City not found. Skipping...\n",
      "Processing Record 6 of Set 10 | lokoja.\n",
      "Processing Record 7 of Set 10 | mirnyy.\n",
      "Processing Record 8 of Set 10 | camara de lobos.\n",
      "Processing Record 9 of Set 10 | karratha.\n",
      "Processing Record 10 of Set 10 | saint-augustin.\n",
      "Processing Record 11 of Set 10 | pangai.\n",
      "Processing Record 12 of Set 10 | santa cruz de la palma.\n",
      "Processing Record 13 of Set 10 | arawa.\n",
      "City not found. Skipping...\n",
      "Processing Record 15 of Set 10 | penzance.\n",
      "Processing Record 16 of Set 10 | batagay.\n",
      "Processing Record 17 of Set 10 | coihaique.\n",
      "Processing Record 18 of Set 10 | oistins.\n",
      "Processing Record 19 of Set 10 | bonnyville.\n",
      "Processing Record 20 of Set 10 | lindenhurst.\n",
      "Processing Record 21 of Set 10 | kalengwa.\n",
      "City not found. Skipping...\n",
      "Processing Record 23 of Set 10 | tingo maria.\n",
      "Processing Record 24 of Set 10 | piacabucu.\n",
      "Processing Record 25 of Set 10 | robe.\n",
      "Processing Record 26 of Set 10 | beoumi.\n",
      "Processing Record 27 of Set 10 | coos bay.\n",
      "Processing Record 28 of Set 10 | khasan.\n",
      "Processing Record 29 of Set 10 | neiafu.\n",
      "Processing Record 30 of Set 10 | tala.\n",
      "Processing Record 31 of Set 10 | haines junction.\n",
      "Processing Record 32 of Set 10 | madang.\n",
      "Processing Record 33 of Set 10 | nurota.\n",
      "Processing Record 34 of Set 10 | north branch.\n",
      "Processing Record 35 of Set 10 | okrika.\n",
      "Processing Record 36 of Set 10 | rodnykove.\n",
      "Processing Record 37 of Set 10 | kourou.\n",
      "Processing Record 38 of Set 10 | padang.\n",
      "Processing Record 39 of Set 10 | metapan.\n",
      "Processing Record 40 of Set 10 | stromness.\n",
      "Processing Record 41 of Set 10 | meulaboh.\n",
      "Processing Record 42 of Set 10 | carauari.\n",
      "Processing Record 43 of Set 10 | panguna.\n",
      "Processing Record 44 of Set 10 | porto walter.\n",
      "Processing Record 45 of Set 10 | muroto.\n",
      "Processing Record 46 of Set 10 | huilong.\n",
      "Processing Record 47 of Set 10 | aykhal.\n",
      "Processing Record 48 of Set 10 | livingston.\n",
      "Processing Record 49 of Set 10 | bilma.\n",
      "Processing Record 0 of Set 11 | chicama.\n",
      "Processing Record 1 of Set 11 | broken hill.\n",
      "Processing Record 2 of Set 11 | ahuimanu.\n",
      "Processing Record 3 of Set 11 | killybegs.\n",
      "Processing Record 4 of Set 11 | impfondo.\n",
      "Processing Record 5 of Set 11 | prince rupert.\n",
      "Processing Record 6 of Set 11 | matay.\n",
      "City not found. Skipping...\n",
      "Processing Record 8 of Set 11 | dong hoi.\n",
      "Processing Record 9 of Set 11 | baisha.\n",
      "Processing Record 10 of Set 11 | khandbari.\n",
      "Processing Record 11 of Set 11 | aloleng.\n",
      "Processing Record 12 of Set 11 | nangomba.\n",
      "Processing Record 13 of Set 11 | peterhead.\n",
      "Processing Record 14 of Set 11 | lingsugur.\n",
      "Processing Record 15 of Set 11 | kamareddi.\n",
      "City not found. Skipping...\n",
      "City not found. Skipping...\n",
      "Processing Record 18 of Set 11 | vaxjo.\n",
      "Processing Record 19 of Set 11 | portland.\n",
      "Processing Record 20 of Set 11 | zeven.\n",
      "Processing Record 21 of Set 11 | marzuq.\n",
      "Processing Record 22 of Set 11 | geraldton.\n",
      "Processing Record 23 of Set 11 | magadan.\n",
      "Processing Record 24 of Set 11 | voh.\n",
      "Processing Record 25 of Set 11 | port hedland.\n",
      "Processing Record 26 of Set 11 | ambilobe.\n",
      "Processing Record 27 of Set 11 | missoula.\n",
      "Processing Record 28 of Set 11 | mama.\n",
      "Processing Record 29 of Set 11 | tura.\n",
      "Processing Record 30 of Set 11 | sehithwa.\n",
      "City not found. Skipping...\n",
      "Processing Record 32 of Set 11 | cotofanesti.\n",
      "Processing Record 33 of Set 11 | yulin.\n",
      "Processing Record 34 of Set 11 | vigrestad.\n",
      "Processing Record 35 of Set 11 | mamallapuram.\n",
      "Processing Record 36 of Set 11 | fos-sur-mer.\n",
      "Processing Record 37 of Set 11 | kashi.\n",
      "Processing Record 38 of Set 11 | bowen.\n",
      "Processing Record 39 of Set 11 | malanje.\n",
      "Processing Record 40 of Set 11 | pavlysh.\n",
      "Processing Record 41 of Set 11 | lucapa.\n",
      "Processing Record 42 of Set 11 | beaufort.\n",
      "Processing Record 43 of Set 11 | port pirie.\n",
      "Processing Record 44 of Set 11 | dunedin.\n",
      "Processing Record 45 of Set 11 | quesnel.\n",
      "Processing Record 46 of Set 11 | krasnoselkup.\n",
      "Processing Record 47 of Set 11 | kahului.\n",
      "Processing Record 48 of Set 11 | grindavik.\n",
      "Processing Record 49 of Set 11 | pascagoula.\n",
      "Processing Record 0 of Set 12 | nawada.\n",
      "Processing Record 1 of Set 12 | rojhan.\n",
      "Processing Record 2 of Set 12 | berberati.\n",
      "Processing Record 3 of Set 12 | atasu.\n",
      "Processing Record 4 of Set 12 | peleduy.\n",
      "Processing Record 5 of Set 12 | kieta.\n",
      "Processing Record 6 of Set 12 | calgary.\n",
      "Processing Record 7 of Set 12 | srandakan.\n",
      "Processing Record 8 of Set 12 | udachnyy.\n",
      "Processing Record 9 of Set 12 | mudhol.\n",
      "Processing Record 10 of Set 12 | concepcion.\n",
      "Processing Record 11 of Set 12 | pucallpa.\n",
      "Processing Record 12 of Set 12 | shingu.\n",
      "Processing Record 13 of Set 12 | santa maria.\n",
      "Processing Record 14 of Set 12 | lake charles.\n",
      "Processing Record 15 of Set 12 | ushumun.\n",
      "Processing Record 16 of Set 12 | kenai.\n",
      "Processing Record 17 of Set 12 | galle.\n",
      "Processing Record 18 of Set 12 | khani.\n",
      "Processing Record 19 of Set 12 | road town.\n",
      "Processing Record 20 of Set 12 | caceres.\n",
      "Processing Record 21 of Set 12 | mao.\n",
      "Processing Record 22 of Set 12 | mandera.\n",
      "Processing Record 23 of Set 12 | turayf.\n",
      "Processing Record 24 of Set 12 | seydi.\n",
      "Processing Record 25 of Set 12 | rocha.\n",
      "Processing Record 26 of Set 12 | phan thiet.\n",
      "Processing Record 27 of Set 12 | zorya.\n",
      "Processing Record 28 of Set 12 | tomatlan.\n",
      "Processing Record 29 of Set 12 | hamadan.\n",
      "Processing Record 30 of Set 12 | venice.\n",
      "Processing Record 31 of Set 12 | guiyang.\n",
      "Processing Record 32 of Set 12 | bulgan.\n",
      "Processing Record 33 of Set 12 | amurzet.\n",
      "Processing Record 34 of Set 12 | kayerkan.\n",
      "Processing Record 35 of Set 12 | san francisco.\n",
      "Processing Record 36 of Set 12 | macia.\n",
      "Processing Record 37 of Set 12 | lagdo.\n",
      "Processing Record 38 of Set 12 | samarai.\n",
      "Processing Record 39 of Set 12 | cabatuan.\n",
      "Processing Record 40 of Set 12 | tokur.\n",
      "Processing Record 41 of Set 12 | kondinskoye.\n",
      "Processing Record 42 of Set 12 | san rafael.\n",
      "Processing Record 43 of Set 12 | porbandar.\n",
      "Processing Record 44 of Set 12 | bajil.\n",
      "Processing Record 45 of Set 12 | douentza.\n"
     ]
    }
   ],
   "source": [
    "#create lists to store values for Lat, lng, max temp, humidity, cloudiness, wind speed, country, date\n",
    "#cities stored in list above. \n",
    "lat = []\n",
    "lng = []\n",
    "max_temp = []\n",
    "humidity = []\n",
    "cloudiness = []\n",
    "wind_speed = []\n",
    "country = []\n",
    "date = []\n",
    "#add only the cities that can be located to this list for dictionary/dataframe\n",
    "valid_city = []\n",
    "\n",
    "#set initial counter values\n",
    "set = 1 \n",
    "i = 0\n",
    "\n",
    "#Create for loop for cities in list and use i variable and enumerate to create count\n",
    "for city in cities:\n",
    "    #every 50 we reset the i (city number) counter and set counter\n",
    "    if i == 50:\n",
    "        set = set + 1\n",
    "        i = 0 \n",
    "    # Save config information\n",
    "    url = \"http://api.openweathermap.org/data/2.5/weather?\"\n",
    "\n",
    "    # Build query URL\n",
    "    query_url = url + \"appid=\" + api_key + \"&q=\" + city\n",
    "    \n",
    "    # Get weather data\n",
    "    weather_response = requests.get(query_url)\n",
    "    weather_json = weather_response.json()\n",
    "    \n",
    "    #print city not found if there isn't one based on the 404 error code\n",
    "    if weather_response.status_code == 404:\n",
    "        print(\"City not found. Skipping...\")\n",
    "    else:\n",
    "        # Get the temperature from the response\n",
    "        print(f\"Processing Record {i} of Set {set} | {city}.\")\n",
    "        \n",
    "        #append lists with the corresponding json values for creating dictionary/dataframe.\n",
    "        valid_city.append(city)\n",
    "        lat.append(weather_json[\"coord\"][\"lat\"])\n",
    "        lng.append(weather_json[\"coord\"][\"lon\"])\n",
    "        max_temp.append(pytemperature.k2f(weather_json[\"main\"][\"temp_max\"]))\n",
    "        humidity.append(weather_json[\"main\"][\"humidity\"])\n",
    "        cloudiness.append(weather_json[\"clouds\"][\"all\"])\n",
    "        wind_speed.append(weather_json[\"wind\"][\"speed\"])\n",
    "        country.append(weather_json[\"sys\"][\"country\"])\n",
    "        date.append(weather_json[\"dt\"])\n",
    "    \n",
    "    #after we complete each record, it increments counter to next record (city)\n",
    "    i = i + 1 \n",
    "    #print(f\"The weather API responded with: {weather_response.status_code}.\")\n",
    "\n"
   ]
  },
  {
   "cell_type": "code",
   "execution_count": 72,
   "metadata": {},
   "outputs": [
    {
     "name": "stdout",
     "output_type": "stream",
     "text": [
      "Collecting pytemperature\n",
      "  Downloading pytemperature-1.0.zip (2.2 kB)\n",
      "Building wheels for collected packages: pytemperature\n",
      "  Building wheel for pytemperature (setup.py) ... \u001b[?25ldone\n",
      "\u001b[?25h  Created wheel for pytemperature: filename=pytemperature-1.0-py3-none-any.whl size=1939 sha256=320b20da65cdf1ed6f457d6ec19cd2da920288c713b42403887b7e72be5e6ad0\n",
      "  Stored in directory: /Users/KaseyWilson/Library/Caches/pip/wheels/ee/66/d3/916f539ba4d1d77ff0afff67f539353b3a5c49d0f5f0b8b6c7\n",
      "Successfully built pytemperature\n",
      "Installing collected packages: pytemperature\n",
      "Successfully installed pytemperature-1.0\n"
     ]
    }
   ],
   "source": [
    "!pip install pytemperature"
   ]
  },
  {
   "cell_type": "markdown",
   "metadata": {},
   "source": [
    "### Convert Raw Data to DataFrame\n",
    "* Export the city data into a .csv.\n",
    "* Display the DataFrame"
   ]
  },
  {
   "cell_type": "code",
   "execution_count": 28,
   "metadata": {},
   "outputs": [
    {
     "name": "stdout",
     "output_type": "stream",
     "text": [
      "{\n",
      "    \"coord\": {\n",
      "        \"lon\": -2.9517,\n",
      "        \"lat\": 14.9951\n",
      "    },\n",
      "    \"weather\": [\n",
      "        {\n",
      "            \"id\": 803,\n",
      "            \"main\": \"Clouds\",\n",
      "            \"description\": \"broken clouds\",\n",
      "            \"icon\": \"04n\"\n",
      "        }\n",
      "    ],\n",
      "    \"base\": \"stations\",\n",
      "    \"main\": {\n",
      "        \"temp\": 295.27,\n",
      "        \"feels_like\": 291.76,\n",
      "        \"temp_min\": 295.27,\n",
      "        \"temp_max\": 295.27,\n",
      "        \"pressure\": 1012,\n",
      "        \"humidity\": 19,\n",
      "        \"sea_level\": 1012,\n",
      "        \"grnd_level\": 977\n",
      "    },\n",
      "    \"visibility\": 10000,\n",
      "    \"wind\": {\n",
      "        \"speed\": 1.68,\n",
      "        \"deg\": 116\n",
      "    },\n",
      "    \"clouds\": {\n",
      "        \"all\": 80\n",
      "    },\n",
      "    \"dt\": 1612483110,\n",
      "    \"sys\": {\n",
      "        \"country\": \"ML\",\n",
      "        \"sunrise\": 1612420797,\n",
      "        \"sunset\": 1612462291\n",
      "    },\n",
      "    \"timezone\": 0,\n",
      "    \"id\": 2458334,\n",
      "    \"name\": \"Douentza\",\n",
      "    \"cod\": 200\n",
      "}\n"
     ]
    }
   ],
   "source": [
    "weather_response = requests.get(query_url)\n",
    "weather_json = weather_response.json()\n",
    "print(json.dumps(weather_json, indent=4))"
   ]
  },
  {
   "cell_type": "code",
   "execution_count": 125,
   "metadata": {},
   "outputs": [
    {
     "data": {
      "text/html": [
       "<div>\n",
       "<style scoped>\n",
       "    .dataframe tbody tr th:only-of-type {\n",
       "        vertical-align: middle;\n",
       "    }\n",
       "\n",
       "    .dataframe tbody tr th {\n",
       "        vertical-align: top;\n",
       "    }\n",
       "\n",
       "    .dataframe thead th {\n",
       "        text-align: right;\n",
       "    }\n",
       "</style>\n",
       "<table border=\"1\" class=\"dataframe\">\n",
       "  <thead>\n",
       "    <tr style=\"text-align: right;\">\n",
       "      <th></th>\n",
       "      <th>City</th>\n",
       "      <th>Lat</th>\n",
       "      <th>Lng</th>\n",
       "      <th>Max Temp</th>\n",
       "      <th>Humidity</th>\n",
       "      <th>Cloudiness</th>\n",
       "      <th>Wind Speed</th>\n",
       "      <th>Country</th>\n",
       "      <th>Date</th>\n",
       "    </tr>\n",
       "  </thead>\n",
       "  <tbody>\n",
       "    <tr>\n",
       "      <th>0</th>\n",
       "      <td>hermanus</td>\n",
       "      <td>-34.4187</td>\n",
       "      <td>19.2345</td>\n",
       "      <td>63.98</td>\n",
       "      <td>91</td>\n",
       "      <td>5</td>\n",
       "      <td>3.53</td>\n",
       "      <td>ZA</td>\n",
       "      <td>1612489893</td>\n",
       "    </tr>\n",
       "    <tr>\n",
       "      <th>1</th>\n",
       "      <td>ponta do sol</td>\n",
       "      <td>32.6667</td>\n",
       "      <td>-17.1000</td>\n",
       "      <td>48.97</td>\n",
       "      <td>67</td>\n",
       "      <td>83</td>\n",
       "      <td>1.34</td>\n",
       "      <td>PT</td>\n",
       "      <td>1612490167</td>\n",
       "    </tr>\n",
       "    <tr>\n",
       "      <th>2</th>\n",
       "      <td>flinders</td>\n",
       "      <td>-34.5833</td>\n",
       "      <td>150.8552</td>\n",
       "      <td>83.98</td>\n",
       "      <td>70</td>\n",
       "      <td>13</td>\n",
       "      <td>3.13</td>\n",
       "      <td>AU</td>\n",
       "      <td>1612490226</td>\n",
       "    </tr>\n",
       "    <tr>\n",
       "      <th>3</th>\n",
       "      <td>asau</td>\n",
       "      <td>46.4333</td>\n",
       "      <td>26.4000</td>\n",
       "      <td>37.38</td>\n",
       "      <td>87</td>\n",
       "      <td>40</td>\n",
       "      <td>3.09</td>\n",
       "      <td>RO</td>\n",
       "      <td>1612490557</td>\n",
       "    </tr>\n",
       "    <tr>\n",
       "      <th>4</th>\n",
       "      <td>huanren</td>\n",
       "      <td>41.2647</td>\n",
       "      <td>125.3667</td>\n",
       "      <td>23.18</td>\n",
       "      <td>93</td>\n",
       "      <td>91</td>\n",
       "      <td>3.22</td>\n",
       "      <td>CN</td>\n",
       "      <td>1612490557</td>\n",
       "    </tr>\n",
       "  </tbody>\n",
       "</table>\n",
       "</div>"
      ],
      "text/plain": [
       "           City      Lat       Lng  Max Temp  Humidity  Cloudiness  \\\n",
       "0      hermanus -34.4187   19.2345     63.98        91           5   \n",
       "1  ponta do sol  32.6667  -17.1000     48.97        67          83   \n",
       "2      flinders -34.5833  150.8552     83.98        70          13   \n",
       "3          asau  46.4333   26.4000     37.38        87          40   \n",
       "4       huanren  41.2647  125.3667     23.18        93          91   \n",
       "\n",
       "   Wind Speed Country        Date  \n",
       "0        3.53      ZA  1612489893  \n",
       "1        1.34      PT  1612490167  \n",
       "2        3.13      AU  1612490226  \n",
       "3        3.09      RO  1612490557  \n",
       "4        3.22      CN  1612490557  "
      ]
     },
     "execution_count": 125,
     "metadata": {},
     "output_type": "execute_result"
    }
   ],
   "source": [
    "#create a dictionary for establishing dataframe\n",
    "weather_dict = {\n",
    "    \"City\": valid_city,\n",
    "    \"Lat\": lat,\n",
    "    \"Lng\": lng,\n",
    "    \"Max Temp\": max_temp,\n",
    "    \"Humidity\": humidity,\n",
    "    \"Cloudiness\": cloudiness,\n",
    "    \"Wind Speed\": wind_speed,\n",
    "    \"Country\": country,\n",
    "    \"Date\": date,\n",
    "}\n",
    "\n",
    "#convert data to dataframe\n",
    "city_data = pd.DataFrame(weather_dict)\n",
    "city_data\n",
    "\n",
    "#write to text file \"cities.csv\" stored in output_data folder\n",
    "city_data.to_csv((\"output_data/cities.csv\"))\n",
    "\n",
    "city_data.head()"
   ]
  },
  {
   "cell_type": "markdown",
   "metadata": {},
   "source": [
    "## Inspect the data and remove the cities where the humidity > 100%.\n",
    "----\n",
    "Skip this step if there are no cities that have humidity > 100%. "
   ]
  },
  {
   "cell_type": "code",
   "execution_count": 79,
   "metadata": {
    "scrolled": true
   },
   "outputs": [
    {
     "data": {
      "text/html": [
       "<div>\n",
       "<style scoped>\n",
       "    .dataframe tbody tr th:only-of-type {\n",
       "        vertical-align: middle;\n",
       "    }\n",
       "\n",
       "    .dataframe tbody tr th {\n",
       "        vertical-align: top;\n",
       "    }\n",
       "\n",
       "    .dataframe thead th {\n",
       "        text-align: right;\n",
       "    }\n",
       "</style>\n",
       "<table border=\"1\" class=\"dataframe\">\n",
       "  <thead>\n",
       "    <tr style=\"text-align: right;\">\n",
       "      <th></th>\n",
       "      <th>Lat</th>\n",
       "      <th>Lng</th>\n",
       "      <th>Max Temp</th>\n",
       "      <th>Humidity</th>\n",
       "      <th>Cloudiness</th>\n",
       "      <th>Wind Speed</th>\n",
       "      <th>Date</th>\n",
       "    </tr>\n",
       "  </thead>\n",
       "  <tbody>\n",
       "    <tr>\n",
       "      <th>count</th>\n",
       "      <td>551.000000</td>\n",
       "      <td>551.000000</td>\n",
       "      <td>551.000000</td>\n",
       "      <td>551.000000</td>\n",
       "      <td>551.000000</td>\n",
       "      <td>551.000000</td>\n",
       "      <td>5.510000e+02</td>\n",
       "    </tr>\n",
       "    <tr>\n",
       "      <th>mean</th>\n",
       "      <td>20.242150</td>\n",
       "      <td>19.702974</td>\n",
       "      <td>50.057151</td>\n",
       "      <td>74.076225</td>\n",
       "      <td>52.791289</td>\n",
       "      <td>3.628857</td>\n",
       "      <td>1.612490e+09</td>\n",
       "    </tr>\n",
       "    <tr>\n",
       "      <th>std</th>\n",
       "      <td>32.521387</td>\n",
       "      <td>91.921491</td>\n",
       "      <td>31.176100</td>\n",
       "      <td>18.964694</td>\n",
       "      <td>40.044180</td>\n",
       "      <td>2.660723</td>\n",
       "      <td>2.291399e+02</td>\n",
       "    </tr>\n",
       "    <tr>\n",
       "      <th>min</th>\n",
       "      <td>-54.800000</td>\n",
       "      <td>-175.200000</td>\n",
       "      <td>-43.620000</td>\n",
       "      <td>18.000000</td>\n",
       "      <td>0.000000</td>\n",
       "      <td>0.210000</td>\n",
       "      <td>1.612490e+09</td>\n",
       "    </tr>\n",
       "    <tr>\n",
       "      <th>25%</th>\n",
       "      <td>-6.302550</td>\n",
       "      <td>-64.707400</td>\n",
       "      <td>34.160000</td>\n",
       "      <td>65.000000</td>\n",
       "      <td>10.000000</td>\n",
       "      <td>1.540000</td>\n",
       "      <td>1.612490e+09</td>\n",
       "    </tr>\n",
       "    <tr>\n",
       "      <th>50%</th>\n",
       "      <td>23.666700</td>\n",
       "      <td>24.800000</td>\n",
       "      <td>60.690000</td>\n",
       "      <td>78.000000</td>\n",
       "      <td>54.000000</td>\n",
       "      <td>3.090000</td>\n",
       "      <td>1.612491e+09</td>\n",
       "    </tr>\n",
       "    <tr>\n",
       "      <th>75%</th>\n",
       "      <td>48.101150</td>\n",
       "      <td>103.625700</td>\n",
       "      <td>74.350000</td>\n",
       "      <td>88.000000</td>\n",
       "      <td>92.000000</td>\n",
       "      <td>4.920000</td>\n",
       "      <td>1.612491e+09</td>\n",
       "    </tr>\n",
       "    <tr>\n",
       "      <th>max</th>\n",
       "      <td>78.218600</td>\n",
       "      <td>179.316700</td>\n",
       "      <td>94.980000</td>\n",
       "      <td>100.000000</td>\n",
       "      <td>100.000000</td>\n",
       "      <td>16.000000</td>\n",
       "      <td>1.612491e+09</td>\n",
       "    </tr>\n",
       "  </tbody>\n",
       "</table>\n",
       "</div>"
      ],
      "text/plain": [
       "              Lat         Lng    Max Temp    Humidity  Cloudiness  Wind Speed  \\\n",
       "count  551.000000  551.000000  551.000000  551.000000  551.000000  551.000000   \n",
       "mean    20.242150   19.702974   50.057151   74.076225   52.791289    3.628857   \n",
       "std     32.521387   91.921491   31.176100   18.964694   40.044180    2.660723   \n",
       "min    -54.800000 -175.200000  -43.620000   18.000000    0.000000    0.210000   \n",
       "25%     -6.302550  -64.707400   34.160000   65.000000   10.000000    1.540000   \n",
       "50%     23.666700   24.800000   60.690000   78.000000   54.000000    3.090000   \n",
       "75%     48.101150  103.625700   74.350000   88.000000   92.000000    4.920000   \n",
       "max     78.218600  179.316700   94.980000  100.000000  100.000000   16.000000   \n",
       "\n",
       "               Date  \n",
       "count  5.510000e+02  \n",
       "mean   1.612490e+09  \n",
       "std    2.291399e+02  \n",
       "min    1.612490e+09  \n",
       "25%    1.612490e+09  \n",
       "50%    1.612491e+09  \n",
       "75%    1.612491e+09  \n",
       "max    1.612491e+09  "
      ]
     },
     "execution_count": 79,
     "metadata": {},
     "output_type": "execute_result"
    }
   ],
   "source": [
    "#Inspect the data\n",
    "city_data.describe()"
   ]
  },
  {
   "cell_type": "code",
   "execution_count": 80,
   "metadata": {},
   "outputs": [
    {
     "data": {
      "text/html": [
       "<div>\n",
       "<style scoped>\n",
       "    .dataframe tbody tr th:only-of-type {\n",
       "        vertical-align: middle;\n",
       "    }\n",
       "\n",
       "    .dataframe tbody tr th {\n",
       "        vertical-align: top;\n",
       "    }\n",
       "\n",
       "    .dataframe thead th {\n",
       "        text-align: right;\n",
       "    }\n",
       "</style>\n",
       "<table border=\"1\" class=\"dataframe\">\n",
       "  <thead>\n",
       "    <tr style=\"text-align: right;\">\n",
       "      <th></th>\n",
       "      <th>City</th>\n",
       "      <th>Lat</th>\n",
       "      <th>Lng</th>\n",
       "      <th>Max Temp</th>\n",
       "      <th>Humidity</th>\n",
       "      <th>Cloudiness</th>\n",
       "      <th>Wind Speed</th>\n",
       "      <th>Country</th>\n",
       "      <th>Date</th>\n",
       "    </tr>\n",
       "  </thead>\n",
       "  <tbody>\n",
       "  </tbody>\n",
       "</table>\n",
       "</div>"
      ],
      "text/plain": [
       "Empty DataFrame\n",
       "Columns: [City, Lat, Lng, Max Temp, Humidity, Cloudiness, Wind Speed, Country, Date]\n",
       "Index: []"
      ]
     },
     "execution_count": 80,
     "metadata": {},
     "output_type": "execute_result"
    }
   ],
   "source": [
    "#check for cities with humidity over 100\n",
    "city_loc = city_data.loc[city_data[\"Humidity\"] > 100]\n",
    "city_loc"
   ]
  },
  {
   "cell_type": "code",
   "execution_count": 81,
   "metadata": {},
   "outputs": [],
   "source": [
    "#Create new dataframe from city_data  to drop all humidity outliers by index\n",
    "clean_city = city_data"
   ]
  },
  {
   "cell_type": "code",
   "execution_count": 82,
   "metadata": {},
   "outputs": [
    {
     "name": "stdout",
     "output_type": "stream",
     "text": [
      "               City      Lat       Lng  Max Temp  Humidity  Cloudiness  \\\n",
      "27            minna   9.6139    6.5569     78.78        18           0   \n",
      "51            arlit  18.7369    7.3853     62.49        27          99   \n",
      "69   cabo san lucas  22.8909 -109.9124     78.78        29          40   \n",
      "75             yaan   7.3833    8.5667     74.91        20           0   \n",
      "161   doctor arroyo  23.6667 -100.1833     67.17        22           0   \n",
      "172    birnin kebbi  12.4539    4.1975     71.94        21           0   \n",
      "198   puerto madryn -42.7692  -65.0385     83.15        25           0   \n",
      "239         sikasso  10.9167   -7.0000     72.01        21           0   \n",
      "242           birao  10.2849   22.7882     74.14        20          53   \n",
      "257         biltine  14.5333   20.9167     64.42        27           0   \n",
      "270           asosa  10.0667   34.5333     63.55        29          22   \n",
      "280           ndele   8.4109   20.6473     75.14        20           8   \n",
      "289            sire  12.9299    5.2043     70.09        22           0   \n",
      "297          ormara  25.2088   64.6357     68.20        30           0   \n",
      "324            wawa   9.9022    4.4192     74.19        22           0   \n",
      "356    saint george  37.1041 -113.5841     49.98        27           1   \n",
      "395        tessalit  20.1986    1.0114     67.22        22          69   \n",
      "404            kita  13.0349   -9.4895     71.26        19          12   \n",
      "409          ouadda   8.0777   22.4007     73.16        21           0   \n",
      "417          lokoja   7.8024    6.7430     76.10        21           0   \n",
      "478       geraldton -28.7667  114.6000     78.78        29         100   \n",
      "507       berberati   4.2612   15.7922     67.22        27           9   \n",
      "542           lagdo   9.0500   13.7333     71.38        21           0   \n",
      "547      san rafael -34.6177  -68.3301     75.36        26           0   \n",
      "550        douentza  14.9951   -2.9517     70.18        20          30   \n",
      "\n",
      "     Wind Speed Country        Date  \n",
      "27         4.12      NG  1612490560  \n",
      "51         3.16      NE  1612490563  \n",
      "69         4.37      MX  1612490042  \n",
      "75         2.12      NG  1612490566  \n",
      "161        3.08      MX  1612490283  \n",
      "172        4.96      NG  1612490580  \n",
      "198       11.01      AR  1612490589  \n",
      "239        0.79      ML  1612490597  \n",
      "242        6.03      CF  1612490598  \n",
      "257        9.04      TD  1612490601  \n",
      "270        3.63      ET  1612490603  \n",
      "280        3.88      CF  1612490335  \n",
      "289        5.75      NG  1612490605  \n",
      "297        2.86      PK  1612490607  \n",
      "324        1.56      NG  1612490611  \n",
      "356        3.60      US  1612490167  \n",
      "395        7.29      ML  1612490184  \n",
      "404        1.07      ML  1612490623  \n",
      "409        3.35      CF  1612490624  \n",
      "417        0.93      NG  1612490625  \n",
      "478       10.80      AU  1612489946  \n",
      "507        1.69      CF  1612490638  \n",
      "542        1.13      CM  1612490643  \n",
      "547        3.07      AR  1612490538  \n",
      "550        2.30      ML  1612490644  \n"
     ]
    }
   ],
   "source": [
    "#determine quartiles and iqr \n",
    "q1 = clean_city[\"Humidity\"].quantile(0.25)\n",
    "q3 = clean_city[\"Humidity\"].quantile(0.75)\n",
    "iqr = q3 - q1\n",
    "\n",
    "#determining potential outliers\n",
    "lower_bound = q1 - (1.5*iqr)\n",
    "upper_bound = q3 + (1.5*iqr)\n",
    "#determine outliers using upper and lower bounds\n",
    "outlier=clean_city.loc[(clean_city[\"Humidity\"]>upper_bound)|(clean_city[\"Humidity\"]<lower_bound)]\n",
    "    \n",
    "#print(outlier)\n",
    "if len(outlier)>0: print(outlier)\n",
    "    "
   ]
  },
  {
   "cell_type": "code",
   "execution_count": 83,
   "metadata": {},
   "outputs": [
    {
     "data": {
      "text/html": [
       "<div>\n",
       "<style scoped>\n",
       "    .dataframe tbody tr th:only-of-type {\n",
       "        vertical-align: middle;\n",
       "    }\n",
       "\n",
       "    .dataframe tbody tr th {\n",
       "        vertical-align: top;\n",
       "    }\n",
       "\n",
       "    .dataframe thead th {\n",
       "        text-align: right;\n",
       "    }\n",
       "</style>\n",
       "<table border=\"1\" class=\"dataframe\">\n",
       "  <thead>\n",
       "    <tr style=\"text-align: right;\">\n",
       "      <th></th>\n",
       "      <th>City</th>\n",
       "      <th>Lat</th>\n",
       "      <th>Lng</th>\n",
       "      <th>Max Temp</th>\n",
       "      <th>Humidity</th>\n",
       "      <th>Cloudiness</th>\n",
       "      <th>Wind Speed</th>\n",
       "      <th>Country</th>\n",
       "      <th>Date</th>\n",
       "    </tr>\n",
       "  </thead>\n",
       "  <tbody>\n",
       "    <tr>\n",
       "      <th>0</th>\n",
       "      <td>hermanus</td>\n",
       "      <td>-34.4187</td>\n",
       "      <td>19.2345</td>\n",
       "      <td>63.98</td>\n",
       "      <td>91</td>\n",
       "      <td>5</td>\n",
       "      <td>3.53</td>\n",
       "      <td>ZA</td>\n",
       "      <td>1612489893</td>\n",
       "    </tr>\n",
       "    <tr>\n",
       "      <th>1</th>\n",
       "      <td>ponta do sol</td>\n",
       "      <td>32.6667</td>\n",
       "      <td>-17.1000</td>\n",
       "      <td>48.97</td>\n",
       "      <td>67</td>\n",
       "      <td>83</td>\n",
       "      <td>1.34</td>\n",
       "      <td>PT</td>\n",
       "      <td>1612490167</td>\n",
       "    </tr>\n",
       "    <tr>\n",
       "      <th>2</th>\n",
       "      <td>flinders</td>\n",
       "      <td>-34.5833</td>\n",
       "      <td>150.8552</td>\n",
       "      <td>83.98</td>\n",
       "      <td>70</td>\n",
       "      <td>13</td>\n",
       "      <td>3.13</td>\n",
       "      <td>AU</td>\n",
       "      <td>1612490226</td>\n",
       "    </tr>\n",
       "    <tr>\n",
       "      <th>3</th>\n",
       "      <td>asau</td>\n",
       "      <td>46.4333</td>\n",
       "      <td>26.4000</td>\n",
       "      <td>37.38</td>\n",
       "      <td>87</td>\n",
       "      <td>40</td>\n",
       "      <td>3.09</td>\n",
       "      <td>RO</td>\n",
       "      <td>1612490557</td>\n",
       "    </tr>\n",
       "    <tr>\n",
       "      <th>4</th>\n",
       "      <td>huanren</td>\n",
       "      <td>41.2647</td>\n",
       "      <td>125.3667</td>\n",
       "      <td>23.18</td>\n",
       "      <td>93</td>\n",
       "      <td>91</td>\n",
       "      <td>3.22</td>\n",
       "      <td>CN</td>\n",
       "      <td>1612490557</td>\n",
       "    </tr>\n",
       "    <tr>\n",
       "      <th>...</th>\n",
       "      <td>...</td>\n",
       "      <td>...</td>\n",
       "      <td>...</td>\n",
       "      <td>...</td>\n",
       "      <td>...</td>\n",
       "      <td>...</td>\n",
       "      <td>...</td>\n",
       "      <td>...</td>\n",
       "      <td>...</td>\n",
       "    </tr>\n",
       "    <tr>\n",
       "      <th>544</th>\n",
       "      <td>cabatuan</td>\n",
       "      <td>10.8794</td>\n",
       "      <td>122.4860</td>\n",
       "      <td>82.02</td>\n",
       "      <td>77</td>\n",
       "      <td>82</td>\n",
       "      <td>6.73</td>\n",
       "      <td>PH</td>\n",
       "      <td>1612490643</td>\n",
       "    </tr>\n",
       "    <tr>\n",
       "      <th>545</th>\n",
       "      <td>tokur</td>\n",
       "      <td>53.1333</td>\n",
       "      <td>132.9000</td>\n",
       "      <td>-24.67</td>\n",
       "      <td>86</td>\n",
       "      <td>91</td>\n",
       "      <td>1.64</td>\n",
       "      <td>RU</td>\n",
       "      <td>1612490643</td>\n",
       "    </tr>\n",
       "    <tr>\n",
       "      <th>546</th>\n",
       "      <td>kondinskoye</td>\n",
       "      <td>59.6481</td>\n",
       "      <td>67.4100</td>\n",
       "      <td>12.09</td>\n",
       "      <td>96</td>\n",
       "      <td>99</td>\n",
       "      <td>2.94</td>\n",
       "      <td>RU</td>\n",
       "      <td>1612490644</td>\n",
       "    </tr>\n",
       "    <tr>\n",
       "      <th>548</th>\n",
       "      <td>porbandar</td>\n",
       "      <td>21.6422</td>\n",
       "      <td>69.6093</td>\n",
       "      <td>58.98</td>\n",
       "      <td>77</td>\n",
       "      <td>0</td>\n",
       "      <td>4.12</td>\n",
       "      <td>IN</td>\n",
       "      <td>1612490644</td>\n",
       "    </tr>\n",
       "    <tr>\n",
       "      <th>549</th>\n",
       "      <td>bajil</td>\n",
       "      <td>15.0584</td>\n",
       "      <td>43.2851</td>\n",
       "      <td>69.67</td>\n",
       "      <td>64</td>\n",
       "      <td>0</td>\n",
       "      <td>0.98</td>\n",
       "      <td>YE</td>\n",
       "      <td>1612490644</td>\n",
       "    </tr>\n",
       "  </tbody>\n",
       "</table>\n",
       "<p>526 rows × 9 columns</p>\n",
       "</div>"
      ],
      "text/plain": [
       "             City      Lat       Lng  Max Temp  Humidity  Cloudiness  \\\n",
       "0        hermanus -34.4187   19.2345     63.98        91           5   \n",
       "1    ponta do sol  32.6667  -17.1000     48.97        67          83   \n",
       "2        flinders -34.5833  150.8552     83.98        70          13   \n",
       "3            asau  46.4333   26.4000     37.38        87          40   \n",
       "4         huanren  41.2647  125.3667     23.18        93          91   \n",
       "..            ...      ...       ...       ...       ...         ...   \n",
       "544      cabatuan  10.8794  122.4860     82.02        77          82   \n",
       "545         tokur  53.1333  132.9000    -24.67        86          91   \n",
       "546   kondinskoye  59.6481   67.4100     12.09        96          99   \n",
       "548     porbandar  21.6422   69.6093     58.98        77           0   \n",
       "549         bajil  15.0584   43.2851     69.67        64           0   \n",
       "\n",
       "     Wind Speed Country        Date  \n",
       "0          3.53      ZA  1612489893  \n",
       "1          1.34      PT  1612490167  \n",
       "2          3.13      AU  1612490226  \n",
       "3          3.09      RO  1612490557  \n",
       "4          3.22      CN  1612490557  \n",
       "..          ...     ...         ...  \n",
       "544        6.73      PH  1612490643  \n",
       "545        1.64      RU  1612490643  \n",
       "546        2.94      RU  1612490644  \n",
       "548        4.12      IN  1612490644  \n",
       "549        0.98      YE  1612490644  \n",
       "\n",
       "[526 rows x 9 columns]"
      ]
     },
     "execution_count": 83,
     "metadata": {},
     "output_type": "execute_result"
    }
   ],
   "source": [
    "#select all the data that is not greater than the upper bound and not lower than the lower bound using \"not\"\n",
    "# \"not\" symbol (~)\n",
    "clean_data=clean_city.loc[~((clean_city[\"Humidity\"]>upper_bound)|(clean_city[\"Humidity\"]<lower_bound))]\n",
    "clean_data"
   ]
  },
  {
   "cell_type": "markdown",
   "metadata": {},
   "source": [
    "## Plotting the Data\n",
    "* Use proper labeling of the plots using plot titles (including date of analysis) and axes labels.\n",
    "* Save the plotted figures as .pngs."
   ]
  },
  {
   "cell_type": "markdown",
   "metadata": {},
   "source": [
    "## Latitude vs. Temperature Plot"
   ]
  },
  {
   "cell_type": "code",
   "execution_count": 97,
   "metadata": {},
   "outputs": [
    {
     "data": {
      "image/png": "[encoded data removed]",
      "text/plain": [
       "<Figure size 432x288 with 1 Axes>"
      ]
     },
     "metadata": {
      "needs_background": "light"
     },
     "output_type": "display_data"
    },
    {
     "data": {
      "text/plain": [
       "<Figure size 432x288 with 0 Axes>"
      ]
     },
     "metadata": {},
     "output_type": "display_data"
    }
   ],
   "source": [
    "plt.scatter(clean_data[\"Lat\"], clean_data[\"Max Temp\"])\n",
    "\n",
    "plt.ylabel(\"Max Temperature(F)\")\n",
    "plt.xlabel(\"Latitude\")\n",
    "plt.title(\"City Latitude vs. max Temperature (2/4/21)\")\n",
    "plt.grid()\n",
    "fig = plt.figure()\n",
    "fig.savefig(\"WeatherPy_Images/lat_vs_temp.png\")"
   ]
  },
  {
   "cell_type": "markdown",
   "metadata": {},
   "source": [
    "#### The city latitude vs. max temperature shows how temperature trends the further you get from the equator. This figure demonstrates that as you get further away from the equator, the max temperature decreases. In the Southern Hemisphere (latitude below 0) the max temperature does not have as steep of a drop off as is seen in the Northern Hemisphere."
   ]
  },
  {
   "cell_type": "markdown",
   "metadata": {},
   "source": [
    "## Latitude vs. Humidity Plot"
   ]
  },
  {
   "cell_type": "code",
   "execution_count": 98,
   "metadata": {},
   "outputs": [
    {
     "data": {
      "image/png": "[encoded data removed]",
      "text/plain": [
       "<Figure size 432x288 with 1 Axes>"
      ]
     },
     "metadata": {
      "needs_background": "light"
     },
     "output_type": "display_data"
    },
    {
     "data": {
      "text/plain": [
       "<Figure size 432x288 with 0 Axes>"
      ]
     },
     "metadata": {},
     "output_type": "display_data"
    }
   ],
   "source": [
    "plt.scatter(clean_data[\"Lat\"], clean_data[\"Humidity\"])\n",
    "\n",
    "plt.ylabel(\"Humidity (%)\")\n",
    "plt.xlabel(\"Latitude\")\n",
    "plt.title(\"City Latitude vs. Humidity (2/4/21)\")\n",
    "plt.grid()\n",
    "fig = plt.figure()\n",
    "fig.savefig(\"WeatherPy_Images/lat_vs_humidity.png\")"
   ]
  },
  {
   "cell_type": "markdown",
   "metadata": {},
   "source": [
    "#### The city latitude vs. Humidity plot depicts how humidity varies as latitude changes. From this scatter plot we can see that there is not a significant correlation between latitude and humidity. "
   ]
  },
  {
   "cell_type": "markdown",
   "metadata": {},
   "source": [
    "## Latitude vs. Cloudiness Plot"
   ]
  },
  {
   "cell_type": "code",
   "execution_count": 99,
   "metadata": {},
   "outputs": [
    {
     "data": {
      "image/png": "[encoded data removed]",
      "text/plain": [
       "<Figure size 432x288 with 1 Axes>"
      ]
     },
     "metadata": {
      "needs_background": "light"
     },
     "output_type": "display_data"
    },
    {
     "data": {
      "text/plain": [
       "<Figure size 432x288 with 0 Axes>"
      ]
     },
     "metadata": {},
     "output_type": "display_data"
    }
   ],
   "source": [
    "plt.scatter(clean_data[\"Lat\"], clean_data[\"Cloudiness\"])\n",
    "\n",
    "plt.ylabel(\"Cloudiness (%)\")\n",
    "plt.xlabel(\"Latitude\")\n",
    "plt.title(\"City Latitude vs. Cloudiness (2/4/21)\")\n",
    "plt.grid()\n",
    "fig = plt.figure()\n",
    "fig.savefig(\"WeatherPy_Images/lat_vs_cloudiness.png\")"
   ]
  },
  {
   "cell_type": "markdown",
   "metadata": {},
   "source": [
    "#### The latitude vs. Cloudiness plot demonstrates the data points for each city and cloudiness % vs. how close it is to the equator (latitude). The plot does not demonstrate a correlation between these two data points. Cloudiness levels appear to be independt of latitude. "
   ]
  },
  {
   "cell_type": "markdown",
   "metadata": {},
   "source": [
    "## Latitude vs. Wind Speed Plot"
   ]
  },
  {
   "cell_type": "code",
   "execution_count": 100,
   "metadata": {},
   "outputs": [
    {
     "data": {
      "image/png": "[encoded data removed]",
      "text/plain": [
       "<Figure size 432x288 with 1 Axes>"
      ]
     },
     "metadata": {
      "needs_background": "light"
     },
     "output_type": "display_data"
    },
    {
     "data": {
      "text/plain": [
       "<Figure size 432x288 with 0 Axes>"
      ]
     },
     "metadata": {},
     "output_type": "display_data"
    }
   ],
   "source": [
    "plt.scatter(clean_data[\"Lat\"], clean_data[\"Wind Speed\"])\n",
    "\n",
    "plt.ylabel(\"Wind Speed (mph)\")\n",
    "plt.xlabel(\"Latitude\")\n",
    "plt.title(\"City Latitude vs. Wind Speed (2/4/21)\")\n",
    "plt.grid()\n",
    "fig = plt.figure()\n",
    "fig.savefig(\"WeatherPy_Images/lat_vs_wind.png\")"
   ]
  },
  {
   "cell_type": "markdown",
   "metadata": {},
   "source": [
    "#### The latitude vs. Wind Speed plot demonstrates the data points for each city and wind speed vs. how close it is to the equator (latitude). The plot does not demonstrate a correlation between these two data points. Wind Speed appear to be independt of latitude. "
   ]
  },
  {
   "cell_type": "markdown",
   "metadata": {},
   "source": [
    "## Linear Regression"
   ]
  },
  {
   "cell_type": "code",
   "execution_count": 104,
   "metadata": {},
   "outputs": [
    {
     "data": {
      "text/html": [
       "<div>\n",
       "<style scoped>\n",
       "    .dataframe tbody tr th:only-of-type {\n",
       "        vertical-align: middle;\n",
       "    }\n",
       "\n",
       "    .dataframe tbody tr th {\n",
       "        vertical-align: top;\n",
       "    }\n",
       "\n",
       "    .dataframe thead th {\n",
       "        text-align: right;\n",
       "    }\n",
       "</style>\n",
       "<table border=\"1\" class=\"dataframe\">\n",
       "  <thead>\n",
       "    <tr style=\"text-align: right;\">\n",
       "      <th></th>\n",
       "      <th>City</th>\n",
       "      <th>Lat</th>\n",
       "      <th>Lng</th>\n",
       "      <th>Max Temp</th>\n",
       "      <th>Humidity</th>\n",
       "      <th>Cloudiness</th>\n",
       "      <th>Wind Speed</th>\n",
       "      <th>Country</th>\n",
       "      <th>Date</th>\n",
       "    </tr>\n",
       "  </thead>\n",
       "  <tbody>\n",
       "    <tr>\n",
       "      <th>1</th>\n",
       "      <td>ponta do sol</td>\n",
       "      <td>32.6667</td>\n",
       "      <td>-17.1000</td>\n",
       "      <td>48.97</td>\n",
       "      <td>67</td>\n",
       "      <td>83</td>\n",
       "      <td>1.34</td>\n",
       "      <td>PT</td>\n",
       "      <td>1612490167</td>\n",
       "    </tr>\n",
       "    <tr>\n",
       "      <th>3</th>\n",
       "      <td>asau</td>\n",
       "      <td>46.4333</td>\n",
       "      <td>26.4000</td>\n",
       "      <td>37.38</td>\n",
       "      <td>87</td>\n",
       "      <td>40</td>\n",
       "      <td>3.09</td>\n",
       "      <td>RO</td>\n",
       "      <td>1612490557</td>\n",
       "    </tr>\n",
       "    <tr>\n",
       "      <th>4</th>\n",
       "      <td>huanren</td>\n",
       "      <td>41.2647</td>\n",
       "      <td>125.3667</td>\n",
       "      <td>23.18</td>\n",
       "      <td>93</td>\n",
       "      <td>91</td>\n",
       "      <td>3.22</td>\n",
       "      <td>CN</td>\n",
       "      <td>1612490557</td>\n",
       "    </tr>\n",
       "    <tr>\n",
       "      <th>6</th>\n",
       "      <td>yellowknife</td>\n",
       "      <td>62.4560</td>\n",
       "      <td>-114.3525</td>\n",
       "      <td>-29.02</td>\n",
       "      <td>75</td>\n",
       "      <td>1</td>\n",
       "      <td>3.09</td>\n",
       "      <td>CA</td>\n",
       "      <td>1612490178</td>\n",
       "    </tr>\n",
       "    <tr>\n",
       "      <th>8</th>\n",
       "      <td>hambantota</td>\n",
       "      <td>6.1241</td>\n",
       "      <td>81.1185</td>\n",
       "      <td>69.78</td>\n",
       "      <td>100</td>\n",
       "      <td>40</td>\n",
       "      <td>1.54</td>\n",
       "      <td>LK</td>\n",
       "      <td>1612490557</td>\n",
       "    </tr>\n",
       "  </tbody>\n",
       "</table>\n",
       "</div>"
      ],
      "text/plain": [
       "           City      Lat       Lng  Max Temp  Humidity  Cloudiness  \\\n",
       "1  ponta do sol  32.6667  -17.1000     48.97        67          83   \n",
       "3          asau  46.4333   26.4000     37.38        87          40   \n",
       "4       huanren  41.2647  125.3667     23.18        93          91   \n",
       "6   yellowknife  62.4560 -114.3525    -29.02        75           1   \n",
       "8    hambantota   6.1241   81.1185     69.78       100          40   \n",
       "\n",
       "   Wind Speed Country        Date  \n",
       "1        1.34      PT  1612490167  \n",
       "3        3.09      RO  1612490557  \n",
       "4        3.22      CN  1612490557  \n",
       "6        3.09      CA  1612490178  \n",
       "8        1.54      LK  1612490557  "
      ]
     },
     "execution_count": 104,
     "metadata": {},
     "output_type": "execute_result"
    }
   ],
   "source": [
    "#Create dataframe showing only data points in the Northern Hemisphere\n",
    "northern = clean_data.loc[clean_city[\"Lat\"]>0]\n",
    "northern.head()"
   ]
  },
  {
   "cell_type": "code",
   "execution_count": 105,
   "metadata": {},
   "outputs": [
    {
     "data": {
      "text/html": [
       "<div>\n",
       "<style scoped>\n",
       "    .dataframe tbody tr th:only-of-type {\n",
       "        vertical-align: middle;\n",
       "    }\n",
       "\n",
       "    .dataframe tbody tr th {\n",
       "        vertical-align: top;\n",
       "    }\n",
       "\n",
       "    .dataframe thead th {\n",
       "        text-align: right;\n",
       "    }\n",
       "</style>\n",
       "<table border=\"1\" class=\"dataframe\">\n",
       "  <thead>\n",
       "    <tr style=\"text-align: right;\">\n",
       "      <th></th>\n",
       "      <th>City</th>\n",
       "      <th>Lat</th>\n",
       "      <th>Lng</th>\n",
       "      <th>Max Temp</th>\n",
       "      <th>Humidity</th>\n",
       "      <th>Cloudiness</th>\n",
       "      <th>Wind Speed</th>\n",
       "      <th>Country</th>\n",
       "      <th>Date</th>\n",
       "    </tr>\n",
       "  </thead>\n",
       "  <tbody>\n",
       "    <tr>\n",
       "      <th>0</th>\n",
       "      <td>hermanus</td>\n",
       "      <td>-34.4187</td>\n",
       "      <td>19.2345</td>\n",
       "      <td>63.98</td>\n",
       "      <td>91</td>\n",
       "      <td>5</td>\n",
       "      <td>3.53</td>\n",
       "      <td>ZA</td>\n",
       "      <td>1612489893</td>\n",
       "    </tr>\n",
       "    <tr>\n",
       "      <th>2</th>\n",
       "      <td>flinders</td>\n",
       "      <td>-34.5833</td>\n",
       "      <td>150.8552</td>\n",
       "      <td>83.98</td>\n",
       "      <td>70</td>\n",
       "      <td>13</td>\n",
       "      <td>3.13</td>\n",
       "      <td>AU</td>\n",
       "      <td>1612490226</td>\n",
       "    </tr>\n",
       "    <tr>\n",
       "      <th>5</th>\n",
       "      <td>busselton</td>\n",
       "      <td>-33.6500</td>\n",
       "      <td>115.3333</td>\n",
       "      <td>65.98</td>\n",
       "      <td>40</td>\n",
       "      <td>2</td>\n",
       "      <td>0.89</td>\n",
       "      <td>AU</td>\n",
       "      <td>1612490157</td>\n",
       "    </tr>\n",
       "    <tr>\n",
       "      <th>7</th>\n",
       "      <td>tuatapere</td>\n",
       "      <td>-46.1333</td>\n",
       "      <td>167.6833</td>\n",
       "      <td>67.17</td>\n",
       "      <td>53</td>\n",
       "      <td>94</td>\n",
       "      <td>2.71</td>\n",
       "      <td>NZ</td>\n",
       "      <td>1612490267</td>\n",
       "    </tr>\n",
       "    <tr>\n",
       "      <th>9</th>\n",
       "      <td>fare</td>\n",
       "      <td>-16.7000</td>\n",
       "      <td>-151.0167</td>\n",
       "      <td>82.07</td>\n",
       "      <td>64</td>\n",
       "      <td>0</td>\n",
       "      <td>2.84</td>\n",
       "      <td>PF</td>\n",
       "      <td>1612490291</td>\n",
       "    </tr>\n",
       "  </tbody>\n",
       "</table>\n",
       "</div>"
      ],
      "text/plain": [
       "        City      Lat       Lng  Max Temp  Humidity  Cloudiness  Wind Speed  \\\n",
       "0   hermanus -34.4187   19.2345     63.98        91           5        3.53   \n",
       "2   flinders -34.5833  150.8552     83.98        70          13        3.13   \n",
       "5  busselton -33.6500  115.3333     65.98        40           2        0.89   \n",
       "7  tuatapere -46.1333  167.6833     67.17        53          94        2.71   \n",
       "9       fare -16.7000 -151.0167     82.07        64           0        2.84   \n",
       "\n",
       "  Country        Date  \n",
       "0      ZA  1612489893  \n",
       "2      AU  1612490226  \n",
       "5      AU  1612490157  \n",
       "7      NZ  1612490267  \n",
       "9      PF  1612490291  "
      ]
     },
     "execution_count": 105,
     "metadata": {},
     "output_type": "execute_result"
    }
   ],
   "source": [
    "#Create dataframe showing only data points in the Southern Hemisphere\n",
    "southern = clean_data.loc[clean_city[\"Lat\"]<0]\n",
    "southern.head()"
   ]
  },
  {
   "cell_type": "markdown",
   "metadata": {},
   "source": [
    "####  Northern Hemisphere - Max Temp vs. Latitude Linear Regression"
   ]
  },
  {
   "cell_type": "code",
   "execution_count": 114,
   "metadata": {},
   "outputs": [
    {
     "name": "stdout",
     "output_type": "stream",
     "text": [
      "The r-value is: 0.7684103416721139\n"
     ]
    },
    {
     "data": {
      "image/png": "[encoded data removed]",
      "text/plain": [
       "<Figure size 432x288 with 1 Axes>"
      ]
     },
     "metadata": {
      "needs_background": "light"
     },
     "output_type": "display_data"
    },
    {
     "data": {
      "text/plain": [
       "<Figure size 432x288 with 0 Axes>"
      ]
     },
     "metadata": {},
     "output_type": "display_data"
    }
   ],
   "source": [
    "# Print out the r-squared value along with the plot.\n",
    "x_values = northern[\"Lat\"]\n",
    "y_values = northern[\"Max Temp\"]\n",
    "plt.scatter(northern[\"Lat\"], northern[\"Max Temp\"])\n",
    "plt.ylabel(\"Max Temperature(F)\")\n",
    "plt.xlabel(\"Latitude\")\n",
    "plt.title(\"City Latitude vs. max Temperature (2/4/21)\")\n",
    "plt.grid()\n",
    "(slope, intercept, rvalue, pvalue, stderr) = linregress(x_values, y_values)\n",
    "regress_values = x_values * slope + intercept\n",
    "line_eq = \"y = \" + str(round(slope,2)) + \"x + \" + str(round(intercept,2))\n",
    "plt.scatter(x_values,y_values)\n",
    "plt.plot(x_values,regress_values,\"r-\")\n",
    "plt.annotate(line_eq,(6,10),fontsize=15,color=\"red\")\n",
    "\n",
    "print(f\"The r-value is: {rvalue**2}\")\n",
    "plt.show()\n",
    "\n",
    "fig = plt.figure()\n",
    "fig.savefig(\"WeatherPy_Images/northern_lat_vs_temp.png\")"
   ]
  },
  {
   "cell_type": "markdown",
   "metadata": {},
   "source": [
    "####  Southern Hemisphere - Max Temp vs. Latitude Linear Regression"
   ]
  },
  {
   "cell_type": "code",
   "execution_count": 115,
   "metadata": {},
   "outputs": [
    {
     "name": "stdout",
     "output_type": "stream",
     "text": [
      "The r-value is: 0.29641646641560987\n"
     ]
    },
    {
     "data": {
      "image/png": "[encoded data removed]",
      "text/plain": [
       "<Figure size 432x288 with 1 Axes>"
      ]
     },
     "metadata": {
      "needs_background": "light"
     },
     "output_type": "display_data"
    },
    {
     "data": {
      "text/plain": [
       "<Figure size 432x288 with 0 Axes>"
      ]
     },
     "metadata": {},
     "output_type": "display_data"
    }
   ],
   "source": [
    "# Print out the r-squared value along with the plot.\n",
    "x_values = southern[\"Lat\"]\n",
    "y_values = southern[\"Max Temp\"]\n",
    "plt.scatter(southern[\"Lat\"], southern[\"Max Temp\"])\n",
    "plt.ylabel(\"Max Temperature(F)\")\n",
    "plt.xlabel(\"Latitude\")\n",
    "plt.title(\"City Latitude vs. max Temperature (2/4/21)\")\n",
    "plt.grid()\n",
    "(slope, intercept, rvalue, pvalue, stderr) = linregress(x_values, y_values)\n",
    "regress_values = x_values * slope + intercept\n",
    "line_eq = \"y = \" + str(round(slope,2)) + \"x + \" + str(round(intercept,2))\n",
    "plt.scatter(x_values,y_values)\n",
    "plt.plot(x_values,regress_values,\"r-\")\n",
    "plt.annotate(line_eq,(6,10),fontsize=15,color=\"red\")\n",
    "\n",
    "print(f\"The r-value is: {rvalue**2}\")\n",
    "plt.show()\n",
    "\n",
    "fig = plt.figure()\n",
    "fig.savefig(\"WeatherPy_Images/southern_lat_vs_temp.png\")"
   ]
  },
  {
   "cell_type": "markdown",
   "metadata": {},
   "source": [
    "#### The plots and regression for both Northern Hemisphere and Southern Hemisphere for latitude vs. max temperature demonstrate a correlation between these two factors. Both depict that as latitude increases and you get further from the equater, the lower the max temperature is. Conversely, the closer you get to the equator, the higher the max temperature tends to be. "
   ]
  },
  {
   "cell_type": "markdown",
   "metadata": {},
   "source": [
    "####  Northern Hemisphere - Humidity (%) vs. Latitude Linear Regression"
   ]
  },
  {
   "cell_type": "code",
   "execution_count": 116,
   "metadata": {},
   "outputs": [
    {
     "name": "stdout",
     "output_type": "stream",
     "text": [
      "The r-value is: 0.07163325066831537\n"
     ]
    },
    {
     "data": {
      "image/png": "[encoded data removed]",
      "text/plain": [
       "<Figure size 432x288 with 1 Axes>"
      ]
     },
     "metadata": {
      "needs_background": "light"
     },
     "output_type": "display_data"
    },
    {
     "data": {
      "text/plain": [
       "<Figure size 432x288 with 0 Axes>"
      ]
     },
     "metadata": {},
     "output_type": "display_data"
    }
   ],
   "source": [
    "# Print out the r-squared value along with the plot.\n",
    "x_values = northern[\"Lat\"]\n",
    "y_values = northern[\"Humidity\"]\n",
    "plt.scatter(northern[\"Lat\"], northern[\"Humidity\"])\n",
    "plt.ylabel(\"Humidity (%)\")\n",
    "plt.xlabel(\"Latitude\")\n",
    "plt.title(\"City Latitude vs. Humidity (2/4/21)\")\n",
    "plt.grid()\n",
    "(slope, intercept, rvalue, pvalue, stderr) = linregress(x_values, y_values)\n",
    "regress_values = x_values * slope + intercept\n",
    "line_eq = \"y = \" + str(round(slope,2)) + \"x + \" + str(round(intercept,2))\n",
    "plt.scatter(x_values,y_values)\n",
    "plt.plot(x_values,regress_values,\"r-\")\n",
    "plt.annotate(line_eq,(6,10),fontsize=15,color=\"red\")\n",
    "\n",
    "print(f\"The r-value is: {rvalue**2}\")\n",
    "plt.show()\n",
    "\n",
    "fig = plt.figure()\n",
    "fig.savefig(\"WeatherPy_Images/northern_lat_vs_humidity.png\")"
   ]
  },
  {
   "cell_type": "markdown",
   "metadata": {},
   "source": [
    "####  Southern Hemisphere - Humidity (%) vs. Latitude Linear Regression"
   ]
  },
  {
   "cell_type": "code",
   "execution_count": 117,
   "metadata": {},
   "outputs": [
    {
     "name": "stdout",
     "output_type": "stream",
     "text": [
      "The r-value is: 0.10667040457635356\n"
     ]
    },
    {
     "data": {
      "image/png": "[encoded data removed]",
      "text/plain": [
       "<Figure size 432x288 with 1 Axes>"
      ]
     },
     "metadata": {
      "needs_background": "light"
     },
     "output_type": "display_data"
    },
    {
     "data": {
      "text/plain": [
       "<Figure size 432x288 with 0 Axes>"
      ]
     },
     "metadata": {},
     "output_type": "display_data"
    }
   ],
   "source": [
    "# Print out the r-squared value along with the plot.\n",
    "x_values = southern[\"Lat\"]\n",
    "y_values = southern[\"Humidity\"]\n",
    "plt.scatter(southern[\"Lat\"], southern[\"Humidity\"])\n",
    "plt.ylabel(\"Humidity (%)\")\n",
    "plt.xlabel(\"Latitude\")\n",
    "plt.title(\"City Latitude vs. Humidity (2/4/21)\")\n",
    "plt.grid()\n",
    "(slope, intercept, rvalue, pvalue, stderr) = linregress(x_values, y_values)\n",
    "regress_values = x_values * slope + intercept\n",
    "line_eq = \"y = \" + str(round(slope,2)) + \"x + \" + str(round(intercept,2))\n",
    "plt.scatter(x_values,y_values)\n",
    "plt.plot(x_values,regress_values,\"r-\")\n",
    "plt.annotate(line_eq,(6,10),fontsize=15,color=\"red\")\n",
    "\n",
    "print(f\"The r-value is: {rvalue**2}\")\n",
    "plt.show()\n",
    "\n",
    "fig = plt.figure()\n",
    "fig.savefig(\"WeatherPy_Images/southern_lat_vs_humidity.png\")"
   ]
  },
  {
   "cell_type": "markdown",
   "metadata": {},
   "source": [
    "#### The city latitude vs. humidity plots for both Northern and Southern Hemispheres depicts no statistically significant correlation. With an r-value of close to 0 for each humidity level seems to be independ of proximity to the equator. "
   ]
  },
  {
   "cell_type": "markdown",
   "metadata": {},
   "source": [
    "####  Northern Hemisphere - Cloudiness (%) vs. Latitude Linear Regression"
   ]
  },
  {
   "cell_type": "code",
   "execution_count": 118,
   "metadata": {},
   "outputs": [
    {
     "name": "stdout",
     "output_type": "stream",
     "text": [
      "The r-value is: 0.08987956231674553\n"
     ]
    },
    {
     "data": {
      "image/png": "[encoded data removed]",
      "text/plain": [
       "<Figure size 432x288 with 1 Axes>"
      ]
     },
     "metadata": {
      "needs_background": "light"
     },
     "output_type": "display_data"
    },
    {
     "data": {
      "text/plain": [
       "<Figure size 432x288 with 0 Axes>"
      ]
     },
     "metadata": {},
     "output_type": "display_data"
    }
   ],
   "source": [
    "# Print out the r-squared value along with the plot.\n",
    "x_values = northern[\"Lat\"]\n",
    "y_values = northern[\"Cloudiness\"]\n",
    "plt.scatter(northern[\"Lat\"], northern[\"Cloudiness\"])\n",
    "plt.ylabel(\"Cloudiness (%)\")\n",
    "plt.xlabel(\"Latitude\")\n",
    "plt.title(\"City Latitude vs. Cloudiness (2/4/21)\")\n",
    "plt.grid()\n",
    "(slope, intercept, rvalue, pvalue, stderr) = linregress(x_values, y_values)\n",
    "regress_values = x_values * slope + intercept\n",
    "line_eq = \"y = \" + str(round(slope,2)) + \"x + \" + str(round(intercept,2))\n",
    "plt.scatter(x_values,y_values)\n",
    "plt.plot(x_values,regress_values,\"r-\")\n",
    "plt.annotate(line_eq,(6,10),fontsize=15,color=\"red\")\n",
    "\n",
    "print(f\"The r-value is: {rvalue**2}\")\n",
    "plt.show()\n",
    "\n",
    "fig = plt.figure()\n",
    "fig.savefig(\"WeatherPy_Images/northern_lat_vs_cloudiness.png\")"
   ]
  },
  {
   "cell_type": "markdown",
   "metadata": {},
   "source": [
    "####  Southern Hemisphere - Cloudiness (%) vs. Latitude Linear Regression"
   ]
  },
  {
   "cell_type": "code",
   "execution_count": 119,
   "metadata": {},
   "outputs": [
    {
     "name": "stdout",
     "output_type": "stream",
     "text": [
      "The r-value is: 0.03170479036096767\n"
     ]
    },
    {
     "data": {
      "image/png": "[encoded data removed]",
      "text/plain": [
       "<Figure size 432x288 with 1 Axes>"
      ]
     },
     "metadata": {
      "needs_background": "light"
     },
     "output_type": "display_data"
    },
    {
     "data": {
      "text/plain": [
       "<Figure size 432x288 with 0 Axes>"
      ]
     },
     "metadata": {},
     "output_type": "display_data"
    }
   ],
   "source": [
    "# Print out the r-squared value along with the plot.\n",
    "x_values = southern[\"Lat\"]\n",
    "y_values = southern[\"Cloudiness\"]\n",
    "plt.scatter(southern[\"Lat\"], southern[\"Cloudiness\"])\n",
    "plt.ylabel(\"Cloudiness (%)\")\n",
    "plt.xlabel(\"Latitude\")\n",
    "plt.title(\"City Latitude vs. Cloudiness (2/4/21)\")\n",
    "plt.grid()\n",
    "(slope, intercept, rvalue, pvalue, stderr) = linregress(x_values, y_values)\n",
    "regress_values = x_values * slope + intercept\n",
    "line_eq = \"y = \" + str(round(slope,2)) + \"x + \" + str(round(intercept,2))\n",
    "plt.scatter(x_values,y_values)\n",
    "plt.plot(x_values,regress_values,\"r-\")\n",
    "plt.annotate(line_eq,(6,10),fontsize=15,color=\"red\")\n",
    "\n",
    "print(f\"The r-value is: {rvalue**2}\")\n",
    "plt.show()\n",
    "\n",
    "fig = plt.figure()\n",
    "fig.savefig(\"WeatherPy_Images/southern_lat_vs_cloudiness.png\")"
   ]
  },
  {
   "cell_type": "markdown",
   "metadata": {},
   "source": [
    "#### The city latitude vs. cloudiness plots for both Northern and Southern Hemispheres depicts no statistically significant correlation. With an r-value of close to 0 for each cloudiness level seems to be independ of proximity to the equator. "
   ]
  },
  {
   "cell_type": "markdown",
   "metadata": {},
   "source": [
    "####  Northern Hemisphere - Wind Speed (mph) vs. Latitude Linear Regression"
   ]
  },
  {
   "cell_type": "code",
   "execution_count": 122,
   "metadata": {},
   "outputs": [
    {
     "name": "stdout",
     "output_type": "stream",
     "text": [
      "The r-value is: 0.010952650147088279\n"
     ]
    },
    {
     "data": {
      "image/png": "[encoded data removed]",
      "text/plain": [
       "<Figure size 432x288 with 1 Axes>"
      ]
     },
     "metadata": {
      "needs_background": "light"
     },
     "output_type": "display_data"
    },
    {
     "data": {
      "text/plain": [
       "<Figure size 432x288 with 0 Axes>"
      ]
     },
     "metadata": {},
     "output_type": "display_data"
    }
   ],
   "source": [
    "# Print out the r-squared value along with the plot.\n",
    "x_values = northern[\"Lat\"]\n",
    "y_values = northern[\"Wind Speed\"]\n",
    "plt.scatter(northern[\"Lat\"], northern[\"Wind Speed\"])\n",
    "plt.ylabel(\"Wind Speed (mph)\")\n",
    "plt.xlabel(\"Latitude\")\n",
    "plt.title(\"City Latitude vs. Wind Speed (2/4/21)\")\n",
    "plt.grid()\n",
    "(slope, intercept, rvalue, pvalue, stderr) = linregress(x_values, y_values)\n",
    "regress_values = x_values * slope + intercept\n",
    "line_eq = \"y = \" + str(round(slope,2)) + \"x + \" + str(round(intercept,2))\n",
    "plt.scatter(x_values,y_values)\n",
    "plt.plot(x_values,regress_values,\"r-\")\n",
    "plt.annotate(line_eq,(6,10),fontsize=15,color=\"red\")\n",
    "\n",
    "print(f\"The r-value is: {rvalue**2}\")\n",
    "plt.show()\n",
    "\n",
    "fig = plt.figure()\n",
    "fig.savefig(\"WeatherPy_Images/northern_lat_vs_wind.png\")"
   ]
  },
  {
   "cell_type": "markdown",
   "metadata": {},
   "source": [
    "####  Southern Hemisphere - Wind Speed (mph) vs. Latitude Linear Regression"
   ]
  },
  {
   "cell_type": "code",
   "execution_count": 121,
   "metadata": {},
   "outputs": [
    {
     "name": "stdout",
     "output_type": "stream",
     "text": [
      "The r-value is: 0.2002410810416782\n"
     ]
    },
    {
     "data": {
      "image/png": "[encoded data removed]",
      "text/plain": [
       "<Figure size 432x288 with 1 Axes>"
      ]
     },
     "metadata": {
      "needs_background": "light"
     },
     "output_type": "display_data"
    },
    {
     "data": {
      "text/plain": [
       "<Figure size 432x288 with 0 Axes>"
      ]
     },
     "metadata": {},
     "output_type": "display_data"
    }
   ],
   "source": [
    "# Print out the r-squared value along with the plot.\n",
    "x_values = southern[\"Lat\"]\n",
    "y_values = southern[\"Wind Speed\"]\n",
    "plt.scatter(southern[\"Lat\"], southern[\"Wind Speed\"])\n",
    "plt.ylabel(\"Wind Speed (mph)\")\n",
    "plt.xlabel(\"Latitude\")\n",
    "plt.title(\"City Latitude vs. Wind Speed (2/4/21)\")\n",
    "plt.grid()\n",
    "(slope, intercept, rvalue, pvalue, stderr) = linregress(x_values, y_values)\n",
    "regress_values = x_values * slope + intercept\n",
    "line_eq = \"y = \" + str(round(slope,2)) + \"x + \" + str(round(intercept,2))\n",
    "plt.scatter(x_values,y_values)\n",
    "plt.plot(x_values,regress_values,\"r-\")\n",
    "plt.annotate(line_eq,(6,10),fontsize=15,color=\"red\")\n",
    "\n",
    "print(f\"The r-value is: {rvalue**2}\")\n",
    "plt.show()\n",
    "\n",
    "fig = plt.figure()\n",
    "fig.savefig(\"WeatherPy_Images/southern_lat_vs_wind.png\")"
   ]
  },
  {
   "cell_type": "markdown",
   "metadata": {},
   "source": [
    "#### The city latitude vs. wind speed plots for both Northern and Southern Hemispheres depicts no statistically significant correlation. With an r-value of close to 0 for each cloudiness level seems to be independ of proximity to the equator. "
   ]
  },
  {
   "cell_type": "code",
   "execution_count": null,
   "metadata": {},
   "outputs": [],
   "source": []
  }
 ],
 "metadata": {
  "anaconda-cloud": {},
  "kernel_info": {
   "name": "python3"
  },
  "kernelspec": {
   "display_name": "PythonData",
   "language": "python",
   "name": "pythondata"
  },
  "language_info": {
   "codemirror_mode": {
    "name": "ipython",
    "version": 3
   },
   "file_extension": ".py",
   "mimetype": "text/x-python",
   "name": "python",
   "nbconvert_exporter": "python",
   "pygments_lexer": "ipython3",
   "version": "3.6.10"
  },
  "latex_envs": {
   "LaTeX_envs_menu_present": true,
   "autoclose": false,
   "autocomplete": true,
   "bibliofile": "biblio.bib",
   "cite_by": "apalike",
   "current_citInitial": 1,
   "eqLabelWithNumbers": true,
   "eqNumInitial": 1,
   "hotkeys": {
    "equation": "Ctrl-E",
    "itemize": "Ctrl-I"
   },
   "labels_anchors": false,
   "latex_user_defs": false,
   "report_style_numbering": false,
   "user_envs_cfg": false
  },
  "nteract": {
   "version": "0.12.3"
  }
 },
 "nbformat": 4,
 "nbformat_minor": 2
}
